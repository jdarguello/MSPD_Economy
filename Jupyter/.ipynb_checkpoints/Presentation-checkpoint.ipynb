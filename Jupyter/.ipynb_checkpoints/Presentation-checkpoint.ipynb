{
 "cells": [
  {
   "cell_type": "markdown",
   "metadata": {},
   "source": [
    "<div align=\"center\">\n",
    "    <h1><strong>Estudio Económico - Extracción MSPD</strong></h1>\n",
    "    <h2>Juan David Argüello Plata</h2>\n",
    "    <h4>Octube 11 de 2019</h4>\n",
    "    <img src=\"Images/cenivam.png\" style=\"width: 250px;\" />\n",
    "</div>\n",
    "\n",
    "<div align=\"justify\">\n",
    "    El presente trabajo se centra en la viabilidad del desarrollo de una planta de extracción a través de las alternativas propuestas anteriormente:\n",
    "</div>\n",
    "\n",
    "* _Preprocesamiento:_ molino de bolas, planetario, martillos, rodillos y peletizadora de matriz plana.\n",
    "* _Elución y filtrado:_ presurización mediante gas inerte, cilindro - pistón y sistema de bombeo.\n",
    "* _Separación de sustancias:_ evaporador al vacío por bomba de calor y por circuito hidráulico. \n",
    "\n",
    "## __1. Resumen Teórico__\n",
    "\n",
    "<div align=\"justify\">\n",
    "    El desarrollo de estudios económicos requiere del uso de diversas herramientas y conceptos. En el presente capítulo, se tratará lo siguiente: diagrama de flujo de efectivo, interés simple, interés compuesto, inflación, valor presente neto y tasa interna de retorno.\n",
    "</div>\n",
    "\n",
    "### 1.1. Diagrama de flujo de efectivo\n",
    "\n",
    "<div align=\"justify\">\n",
    "    Representa el valor del dinero en el tiempo (ver Figura 1). Los diagramas de flujo representan el tiempo mediante una línea horizontal marcada con el número de los periodos de capitalización especificados. Las flechas hacia <i>arriba</i> representan flujos positivos (ingresos), mientras que las flechas hacia <i>abajo</i> representan flujos negativos (egresos).\n",
    "</div>\n",
    "\n",
    "<div align=\"justify\">\n",
    "    Cada valor registrado presenta los <strong>flujos netos de efectivo</strong>, lo que equivale a la suma o resta de los ingresos y/o egresos registrados en un mismo período de tiempo.\n",
    "</div>\n",
    "\n",
    "<div align=\"center\">\n",
    "    <img src=\"Images/Diagrama_Flujo.PNG\" style=\"width: 450px;\" />\n",
    "</div>\n",
    "<div align=\"center\">\n",
    "    <i>Figura 1.</i> Concepto de un diagram de flujo$^{[1]}$.\n",
    "</div>\n",
    "\n",
    "### 1.2. Cálculo de intereses\n",
    "\n",
    "<div align=\"justify\">\n",
    "    El dinero se puede prestar y liquidar de muchas formas. La tasa de interés tiene un rol a la hora de definir la rentabilidad de una inversión. Existen dos tipos comunes de interés: <strong>simple</strong> y <strong>compuesto</strong>.\n",
    "</div>\n",
    "\n",
    "#### 1.2.1. Interés simple\n",
    "\n",
    "<div align=\"justify\">\n",
    "    Se trata del interés generado <i>sólo</i> por el capital inicial durante cada período de capitalización. Para un depósito $P$, con tasa de interés $i$ por $N$ periodos, el interés total $I$ se calcula mediante la Ecuación \\ref{simple}.\n",
    "    $$\n",
    "    \\begin{equation}\n",
    "        I = \\left(i P \\right) N\n",
    "        \\tag{1}\n",
    "        \\label{simple}\n",
    "    \\end{equation}\n",
    "    $$\n",
    "    Para el caso de una inversión, el dinero adquirido en función del tiempo sería:\n",
    "    $$\n",
    "    \\begin{equation}\n",
    "        F=P + I = P \\left(1 +i N \\right)\n",
    "        \\tag{2}\n",
    "        \\label{Fsimple}\n",
    "    \\end{equation}\n",
    "    $$\n",
    "</div>\n",
    "\n",
    "#### 1.2.2. Interés compuesto\n",
    "\n",
    "<div align=\"justify\">\n",
    "    El interés generado en cada periodo se calcula con base en la cantidad total al final del periodo anterior. Esta <i>cantidad total</i> incluye el capital original más el interés acumulado que se ha dejado en la cuenta.\n",
    "    $$\n",
    "    \\begin{equation}\n",
    "        F = P \\left(1+i \\right) ^N\n",
    "        \\tag{3}\n",
    "        \\label{compuesto}\n",
    "    \\end{equation}\n",
    "    $$\n",
    "</div>\n",
    "\n",
    "### 1.3. Factor de la cantidad compuesta\n",
    "\n",
    "<div align=\"justify\">\n",
    "    En casos donde la cantidad futura $F$ se predice a través de una serie ingresos, o egresos, constantes en el tiempo (como se muestra en la Figura 2) se calcula de la siguiente manera:\n",
    "    $$\n",
    "    \\begin{equation}\n",
    "        F = A\\left(1+i\\right)^{N-1} + A\\left(1+i\\right)^{N-2} + \\cdots + A\\left(1+i\\right) + A\n",
    "    \\end{equation}\n",
    "    $$\n",
    "    Lo anterior es equivalente a:\n",
    "    $$\n",
    "    \\begin{equation}\n",
    "        F = A \\left[\\frac{\\left(1+i \\right)^N - 1}{i} \\right]\n",
    "        \\tag{4}\n",
    "        \\label{cantcomp}\n",
    "    \\end{equation}\n",
    "    $$\n",
    "    Dónde $A$ es el valor de ingreso, o egreso, constante y el término entre corchetes de la Ecuación \\ref{cantcomp} se conoce como el <i>factor de cantidad compuesta para series de pagos iguales</i>.\n",
    "</div>\n",
    "\n",
    "### 1.4. Factor de recuperación de capital (factor de anualidad):\n",
    "\n",
    "<div align=\"justify\">\n",
    "    Se puede determinar la cantidad de un pago periódico $A$, si se conoce el valor presente $P$, la tasa de interés $i$ y el tiempo $N$, relacionando las Ecuaciones \\ref{compuesto} y \\ref{cantcomp}.\n",
    "    $$\n",
    "    \\begin{equation}\n",
    "        A = P \\left[\\frac{i\\left(1+i \\right) ^N}{\\left(1+i \\right)^N - 1} \\right]\n",
    "        \\tag{5}\n",
    "        \\label{anualidad}\n",
    "    \\end{equation}\n",
    "    $$\n",
    "    De la Ecuación \\ref{anualidad}, el término entre corchetes se conoce como el <i>factor de recuperación de capital para series de pagos iguales</i>.\n",
    "</div>\n",
    "\n",
    "### __1.5. Factor del valor presente__\n",
    "\n",
    "<div align=\"justify\">\n",
    "    ¿Cuánto tendría que invertir ahora para retirar una suma $A$ cada $N$ periodo de tiempo? Simplemente se despeja la Ecuación \\ref{anualidad}.\n",
    "    $$\n",
    "    \\begin{equation}\n",
    "        P = A \\left[\\frac{\\left(1+i \\right)^N - 1}{i\\left(1+i \\right) ^N} \\right]\n",
    "        \\tag{6}\n",
    "        \\label{anualidadP}\n",
    "    \\end{equation}\n",
    "    $$\n",
    "</div>\n",
    "\n",
    "### 1.6. Manejo de series con gradiente\n",
    "\n",
    "<div align=\"justify\">\n",
    "    Es común encontrar situaciones en donde los pagos periódicos (anualidades) aumentan o disminuyen una cantidad constante $G$ de un periodo a otro.\n",
    "</div>\n",
    "\n",
    "#### 1.6.1. Gradiente lineal\n",
    "\n",
    "<div align=\"justify\">\n",
    "    El gradiente lineal (ver Figura 2) se trata de una variación lineal que aumenta o disminuye, de manera proporcional, la anualidad.\n",
    "    $$\n",
    "    \\begin{equation}\n",
    "        A_n = (n-1) G \\rightarrow n \\, \\varepsilon \\, N\n",
    "        \\tag{7}\n",
    "        \\label{GL}\n",
    "    \\end{equation}\n",
    "    $$\n",
    "</div>\n",
    "\n",
    "<div align=\"center\">\n",
    "    <img src=\"Images/GradienteL.PNG\" style=\"width: 450px;\" />\n",
    "</div>\n",
    "<div align=\"center\">\n",
    "    <i>Figura 2.</i> Gradiente Lineal$^{[1]}$.\n",
    "</div>\n",
    "\n",
    "<div align=\"justify\">\n",
    "    Relacionando las Ecuaciones \\ref{anualidadP} y \\ref{GL}, se obtiene:\n",
    "    $$\n",
    "    \\begin{equation}\n",
    "        P = G \\left[\\frac{\\left(1+i \\right)^N - i N -1}{i^2 \\left(1+i \\right)^N} \\right]\n",
    "        \\tag{8}\n",
    "        \\label{AnGL}\n",
    "    \\end{equation}\n",
    "    $$\n",
    "    El término en corchetes de la Ecuación \\ref{AnGL} se conoce como el <i>factor del valor presente de series de gradientes</i>.\n",
    "</div>\n",
    "\n",
    "#### __1.6.2. Gradiente geométrico__\n",
    "\n",
    "<div align=\"justify\">\n",
    "    Otro tipo de series gradientes se forma cuando la serie en un flujo de efectivo se determina, no por una cantidad fija, sino por una <i>tasa fija</i> expresada como porcentaje. Los cambios de precio causados por la <strong>inflación</strong> son un buen ejemplo de estas series geométricas.\n",
    "</div>\n",
    "\n",
    "<div align=\"justify\">\n",
    "    El valor de la anualidad se expresa matemáticamente de la siguiente manera:\n",
    "    $$\n",
    "    \\begin{equation}\n",
    "        A_n = A_1 \\left(1 + g \\right) ^{n-1} \\rightarrow n \\, \\varepsilon \\, N\n",
    "        \\tag{9}\n",
    "        \\label{AnG}\n",
    "    \\end{equation}\n",
    "    $$\n",
    "    De la Ecuación \\ref{AnG}, $g$ corresponde al gradiente geométrico.\n",
    "</div>\n",
    "\n",
    "<div align=\"center\">\n",
    "    <img src=\"Images/GradienteG.PNG\" style=\"width: 450px;\" />\n",
    "</div>\n",
    "<div align=\"center\">\n",
    "    <i>Figura 3.</i> Gradiente Geométrico$^{[1]}$.\n",
    "</div>\n",
    "\n",
    "<div align=\"justify\">\n",
    "    Relacionando las Ecuaciones \\ref{anualidadP} y \\ref{AnG}, se obtiene que:\n",
    "    $$\n",
    "    \\begin{equation}\n",
    "        P = \\left\\{\n",
    "        \\begin{array}{@{} l c @{}}\n",
    "          A_1 \\left[\\frac{1-\\left(1+g \\right) ^N \\left(1+i \\right) ^{-N}}{i-g} \\right] & \\text{si $i \\neq g$} \\\\\n",
    "          A_1 \\left(\\frac{N}{1 + i}\\right) & \\text{si $i=g$}\n",
    "        \\end{array}\\right.\n",
    "        \\tag{10}\n",
    "        \\label{PG}\n",
    "    \\end{equation}\n",
    "    $$\n",
    "</div>\n",
    "\n",
    "### __1.7. Inflación__\n",
    "\n",
    "<div align=\"justify\">\n",
    "    La inflación se define como la <i>pérdida de poder adquisito</i> del dinero a través del tiempo. El fenómeno contrario se conoce como <i>deflación</i>.\n",
    "</div>\n",
    "\n",
    "#### 1.7.1. Tasa de inflación promedio $(f)$\n",
    "\n",
    "<div align=\"justify\">\n",
    "    Para explicar el efecto de las variaciones en las tasas de inflación anuales en un periodo de varios años, se puede calcular una tasa única que represente una <strong>tasa de inflación promedio</strong>. \n",
    "    $$\n",
    "    \\begin{equation}\n",
    "        f = \\frac{\\sum _{i=1} ^N f_i}{N}\n",
    "        \\tag{11}\n",
    "        \\label{infp}\n",
    "    \\end{equation}\n",
    "    $$\n",
    "</div>\n",
    "\n",
    "#### 1.7.2. Tasa de inflación general $(\\bar{f})$\n",
    "\n",
    "<div align=\"justify\">\n",
    "    Cuando se emplea el <i>Índice de Precios al Consumidor (IPC)</i> como la base para determinar la tasa de inflación promedio, se denomina como la tasa de inflación general. En términos matemáticos, se define como:\n",
    "    $$\n",
    "    \\begin{equation}\n",
    "        IPC_n = IPC_0 \\left(1+\\bar{f} \\right) ^n \\\\\n",
    "        \\bar{f} = \\left[\\frac{IPC_n}{IPC_0} \\right] ^{1/n} - 1\n",
    "        \\tag{12}\n",
    "        \\label{tig}\n",
    "    \\end{equation}\n",
    "    $$\n",
    "    De la Ecuación \\ref{tig}, $\\bar{f}$ es la inflación general, $IPC_n$ es el índice de precios al consumidor al final del período $n$, e $IPC_0$ es el índice de precios al consumidor para el periodo base.  \n",
    "</div>\n",
    "\n",
    "#### 1.7.3. Pesos circulantes y pesos constantes\n",
    "\n",
    "<div align=\"justify\">\n",
    "    Debido a la devaluación del peso en el tiempo, es importante hacer una distinción y conversión entre el dinero <i>actual</i>(constante) y el <i>futuro</i>(circulante). Un ejemplo de ello se puede apreciar en la Figura 4.\n",
    "    $$\n",
    "    \\begin{equation}\n",
    "        A' _n = A_n \\left(1+\\bar{f} \\right) ^{-n}\n",
    "        \\tag{13}\n",
    "        \\label{conv}\n",
    "    \\end{equation}\n",
    "    $$\n",
    "    <ul>\n",
    "        <li><i>Pesos circulantes (corrientes) $\\left(A_n \\right)$:</i> son estimaciones de futuros flujos de efectivo para el año $n$ que consideran cualquier cambio anticipado a causa de la inflación.</li>\n",
    "        <li><i>Pesos constantes (reales) $\\left(A' _n \\right)$</i>: reflejan un poder adquisitivo constante independiente del paso del tiempo. Son una medida de valor, no un indicador de la cantidad de dinero pagado o recibido. Mediante la Ecuación \\ref{conv}, se puede convertir los pesos circulantes a constantes.</li>\n",
    "    </ul>\n",
    "</div>\n",
    "\n",
    "<div align=\"center\">\n",
    "    <img src=\"Images/gas.PNG\" style=\"width: 600px;\" />\n",
    "</div>\n",
    "<div align=\"center\">\n",
    "    <i>Figura 4.</i> Precios de la gasolina en centavos circulantes y constantes.\n",
    "</div>\n",
    "\n",
    "#### 1.7.4. Tasas de interés del mercado y libres de inflación\n",
    "\n",
    "<div align=\"justify\">\n",
    "    Se utilizan dos tipos de tasas de interés en los cálculos de equivalencia: tasa de interés del mercado y libre de inflación. La diferencia entre las dos es análoga a los pesos circulantes y constantes.\n",
    "    <ul>\n",
    "        <li><i>Tasa de interés del mercado $(i)$:</i> también llamada <i>tasa de interés nominal</i>. Considera los efectos combinados del valor de ganancia del capital (rentabilidad) y cualquier inflación anticipada. La mayoría de las tasas de interés anunciadas por instituciones financieras son tasas de interés de mercado.</li>\n",
    "        <li><i>Tasa de interés libre de inflación $(i')$:</i> estimación de la verdadera capacidad del dinero de generar ganancias cuando se han descartado los efectos de la inflación. Conocida también como: <i>tasa de interés real</i>.</li>\n",
    "    </ul>\n",
    "    $$\n",
    "    \\begin{equation}\n",
    "        i = i' + \\bar{f} + i'\\bar{f}\n",
    "        \\tag{14}\n",
    "        \\label{mercado}\n",
    "    \\end{equation}\n",
    "    $$\n",
    "</div>\n",
    "\n",
    "### __1.8. Métodos de recuperación de capital__\n",
    "\n",
    "<div align=\"justify\">\n",
    "    La <i>recuperación del capital</i> se produce cuando el flujo de efectivo acumulativo es igual a cero. En el momento en que las entradas de efectivo exceden las salidas, se afirma que el proyecto ha empezado a generar <i>ganancias</i>. \n",
    "</div>\n",
    "\n",
    "#### 1.8.1. Periodo de recuperación convencional\n",
    "\n",
    "<div align=\"justify\">\n",
    "    Se trata simplemente de un recuento monetario cronológico del flujo de efectivo circulante. No toma en cuenta la depreciación del dinero con respecto al tiempo. El método supone que no se obtiene ninguna ganancia durante el periodo de recuperación. \n",
    "</div>\n",
    "\n",
    "#### 1.8.2. Periodo de recuperación descontada\n",
    "\n",
    "<div align=\"justify\">\n",
    "    Emplea la misma metodología que la recuperación convencional, excepto que considera el valor del dinero con respecto al tiempo.\n",
    "</div>\n",
    "\n",
    "#### __1.8.3. Valor Presente Neto (VPN)__ \n",
    "\n",
    "<div align=\"justify\">\n",
    "    Es una <i>técnica de flujo de efectivo descontado (FED)</i>. Considera el valor del dinero en el tiempo. Permite determinar si las entradas de efectivo anticipadas de un proyecto propuesto son los suficientemente atractivas para invertir. Cuando se consideran dos o más proyectos de inversión, el análisis financiero mediante VPN permite realizar una comparación en términos de rentabilidad.\n",
    "</div>\n",
    "\n",
    "##### 1.8.3.1. Procedimientos de evaluación\n",
    "\n",
    "<div align=\"justify\">\n",
    "    Para la evaluación de un proyecto:\n",
    "</div>\n",
    "\n",
    "1. _Tasa de interés:_ ¿Cuál es la tasa de interés que desea ganar la compañía sobre sus inversiones? Esta tasa de interés se conoce como la _tasa de retorno mínima aceptable_ (TREMA).\n",
    "2. Vida de servicio del proyecto.\n",
    "3. Entrada de efectivo por cada periodo durante la vida de servicio.\n",
    "4. Salida de efectivo para cada periodo.\n",
    "5. Flujos de efectivo neto para cada periodo $\\left(flujo_{Neto} = entrada - salida \\right)$.\n",
    "6. Valor presente de cada flujo de efectivo neto a la TREMA. La suma de estos valores se define como el VPN del proyecto. Es decir:\n",
    "\n",
    "$$\n",
    "\\begin{equation}\n",
    "    VP(i) = \\sum _{n=0} ^N \\frac{A_n}{\\left(1+i \\right) ^n}\n",
    "    \\tag{15}\n",
    "    \\label{VPN}\n",
    "\\end{equation}\n",
    "$$\n",
    "\n",
    "<div align=\"justify\">\n",
    "    De la Ecuación \\ref{VPN}, $VP(i)$ es el VPN calculado en $i$, $A_n$ es el flujo neto del periodo $n$, $i$ es la <i>tasa de retorno mínima aceptable</i> (TREMA) y $N$ es la vida de servicio del proyecto.\n",
    "</div>\n",
    "\n",
    "<div align=\"center\">\n",
    "    Si $VP(i) > 0$ la inversión es viable.\n",
    "    <br>\n",
    "    Si $VP(i) = 0$ la inversión es indiferente.\n",
    "    <br>\n",
    "    Si $VP(i) < 0$ la inversión es inaceptable.\n",
    "</div>\n",
    "\n",
    "<div align=\"justify\">\n",
    "Cuando un proyecto presenta un VPN <i>positivo</i>, a una tasa de interés dada, significa que la tasa está por debajo del equilibro, un VPN <i>negativo</i> indica que la tasa está por encima del equilibrio. Esta tasa de interés de equilibrio se conoce como la <strong>Tasa Interna de Retorno (TIR)</strong>.\n",
    "</div>\n",
    "\n",
    "<br>\n",
    "\n",
    "<div align=\"center\">\n",
    "    <img src=\"Images/cero.PNG\" style=\"width: 600px;\" />\n",
    "</div>\n",
    "<div align=\"center\">\n",
    "    <i>Figura 5.</i> Criterio de selección de un proyecto.\n",
    "</div>\n",
    "\n",
    "##### 1.8.3.2. Elección de la TREMA\n",
    "\n",
    "<div align=\"justify\">\n",
    "    En muchas ocasiones, el rendimiento se relaciona con la cantidad de dinero invertida. El rendimiento es una manera de evaluar cómo se comportan entre sí sus inversiones en activos financieros o proyectos y en relación con el desempeño de las inversiones en general.\n",
    "</div>\n",
    "\n",
    "<div align=\"justify\">\n",
    "    La tasa de retorno, de manera realista, es función de tres componentes:\n",
    "</div>\n",
    "\n",
    "* Rendimiento real libre de interés.\n",
    "* Factor de inflación.\n",
    "* Prima(s) de riesgo.\n",
    "\n",
    "##### 1.8.3.3. Diagrama de saldo del proyecto \n",
    "\n",
    "<div align=\"justify\">\n",
    "    El diagrama de saldo se desarrolla calculando el <i>Valor Futuro Neto (VFN)</i>, cuyo procedimiento de calculo es similar al descrito en la Ecuación \\ref{compuesto}, pero empleando el valor presente neto (VPN) y la tasa de retorno mínima aceptable (TREMA).\n",
    "</div>\n",
    "\n",
    "<div align=\"center\">\n",
    "    <img src=\"Images/saldo.PNG\" style=\"width: 500px;\" />\n",
    "</div>\n",
    "<div align=\"center\">\n",
    "    <i>Figura 6.</i> Diagrama de saldo del proyecto$^{[1]}$.\n",
    "</div>\n",
    "\n",
    "* _Exposición al riesgo financiero:_ un saldo negativo indica la cantidad de inversión que se pretende recuperar y que a su vez está expuesto a riesgo de pérdida, en caso de que el proyecto concluya en ese punto. El área de saldo negativo aumenta en caso de que el efectivo recibido sea menor que el interés recibido durante ese periodo.\n",
    "* _Periodo de recuperación descontada:_ indica el tiempo necesario en el que el proyecto alcanza el punto de equilibrio. Esta condición ocurre cuando el saldo del proyecto se vuelve no negativo.\n",
    "* _Potencial de ganancia:_ corresponde a cualquier efectivo generado después del periodo de recuperación, y contribuye a la definición de la rentabilidad del proyecto.\n",
    "\n",
    "### __1.9. Tasa Interna de Retorno__\n",
    "\n",
    "<div align=\"justify\">\n",
    "    Es una medida de la rentabilidad de un proyecto. Se trata de la tasa de interés $i^*$ a la cual el valor presente neto de un proyecto es cero (ver Figura 5).\n",
    "    $$\n",
    "    \\begin{equation}\n",
    "        VP \\left(i^* \\right) = \\frac{A_0}{\\left(1+i^* \\right)^0} + \\frac{A_1}{\\left(1+i^* \\right)^1} + \\cdots + \\frac{A_N}{\\left(1+i^* \\right)^N} = 0 \\\\\n",
    "        VP \\left(i^* \\right) \\left(1+i^* \\right)^N = VF \\left(i^* \\right) = 0\n",
    "        \\tag{16}\n",
    "        \\label{TIR}\n",
    "    \\end{equation}\n",
    "    $$\n",
    "    Los criterios de rentabilidad de una inversión se pueden realizar comparando el TIR con la TREMA.\n",
    "</div>\n",
    "\n",
    "<div align=\"center\">\n",
    "    Si $TIR \\geq TREMA$ se acepta el proyecto.\n",
    "    <br>\n",
    "    Si $TIR < TREMA$ la inversión es inaceptable.\n",
    "</div>\n",
    "\n",
    "### __1.10. Impuestos__\n",
    "\n",
    "<div align=\"justify\">\n",
    "    Además de los <i>intereses</i> bancarios, de las <i>anualidades</i>, con gradiente lineal o geométrico, y de la <i>inflación</i>, se debe también analizar la carga tributaria impuesta tanto por el gobierno nacional como el gobierno extranjero (en caso de realizar negocios internacionales).\n",
    "</div>"
   ]
  },
  {
   "cell_type": "markdown",
   "metadata": {},
   "source": [
    "## __2. Proceso de extracción__\n",
    "\n",
    "<div align=\"justify\">\n",
    "    La planta de extracción a diseñar pertenece a una cadena de producción destinada a la comercialización de <i>aceite esencial</i>, <i>extracto</i> y <i>material de compostaje</i>, como se muestra en la Figura 7.\n",
    "</div>\n",
    "\n",
    "<div align=\"center\">\n",
    "    <img src=\"Images/bio.PNG\" style=\"width: 500px;\" />\n",
    "</div>\n",
    "<div align=\"center\">\n",
    "    <i>Figura 7.</i> Esquema General de la biofábrica.\n",
    "</div>\n",
    "\n",
    "<div align=\"justify\">\n",
    "    La planta a diseñar presenta tres etapas:\n",
    "</div>\n",
    "\n",
    "* _Preprocesamiento:_ consiste en la disminución del tamaño de partícula del material vegetal.\n",
    "* _Elución y Filtrado:_ etapa en donde el material procesado entra en contacto con un solvente, que posee la capacidad de atraer el extracto, y se realiza el filtrado de la mezcla entre el _material procesado_ y la _mezcla solvente - extracto._ \n",
    "* _Separación de sustancias:_ proceso en donde se recupera el solvente procedente la mezcla solvente - extracto. \n",
    "\n",
    "<div align=\"justify\">\n",
    "    Un esquema detallado del proceso de extracción se puede apreciar en la Figura 8.\n",
    "</div>\n",
    "\n",
    "<div align=\"center\">\n",
    "    <img src=\"Images/Productividad/Esquema.PNG\" style=\"width: 800px;\" />\n",
    "</div>\n",
    "<div align=\"center\">\n",
    "    <i>Figura 8.</i> Esquema productivo de la planta de extracción.\n",
    "</div>"
   ]
  },
  {
   "cell_type": "markdown",
   "metadata": {},
   "source": [
    "## __3. Datos__\n",
    "\n",
    "<div align=\"justify\">\n",
    "    Para el desarrollo del estudio económico de las diferentes alternativas de solución, se necesitan de los siguientes datos:\n",
    "</div>\n",
    "\n",
    "* Cosecha por especie:\n",
    "    * Precio del extracto.\n",
    "    * Periodicidad de la cosecha.\n",
    "    * Número de plantas por hectárea.\n",
    "    * Cantidad de material vegetal por planta.\n",
    "    * Rendimiento de extracción.\n",
    "    * Costo del solvente.\n",
    "    * Cantidad de solvente.\n",
    "    * Precio del agente dispersante.\n",
    "    * Cantidad de agente dispersante.\n",
    "* Técnicos (por alternativa):\n",
    "    * Inversión inicial.\n",
    "    * Consumo energético.\n",
    "    * Mantenimiento.\n",
    "    * Periodicidad del mantenimiento.\n",
    "* Personal:\n",
    "    * Tipo de formación.\n",
    "    * Cantidadd de personal.\n",
    "    * Salario.\n",
    "* Índices económicos:\n",
    "    * Interés del banco mundial.\n",
    "    * _Tasa de Retorno Mínima Aceptable_ (TREMA).\n",
    "    * Inflación nacional.\n",
    "    * Inflación del dólar.\n",
    "    * Impuestos nacionales.\n",
    "\n",
    "<div align=\"justify\">\n",
    "    Algunos datos económicos se consiguieron mediante catálogos online de proveedores chinos. Estos datos se inflaron el $10\\%$ correspondiente al valor del arancel por importación, y a este valor se le adicionó el $19\\%$ del IVA.  A día de hoy, el dólar está a $\\$3,467$ pesos.\n",
    "</div>"
   ]
  },
  {
   "cell_type": "code",
   "execution_count": 1,
   "metadata": {},
   "outputs": [
    {
     "data": {
      "text/html": [
       "<div>\n",
       "<style scoped>\n",
       "    .dataframe tbody tr th:only-of-type {\n",
       "        vertical-align: middle;\n",
       "    }\n",
       "\n",
       "    .dataframe tbody tr th {\n",
       "        vertical-align: top;\n",
       "    }\n",
       "\n",
       "    .dataframe thead th {\n",
       "        text-align: right;\n",
       "    }\n",
       "</style>\n",
       "<table border=\"1\" class=\"dataframe\">\n",
       "  <thead>\n",
       "    <tr style=\"text-align: right;\">\n",
       "      <th></th>\n",
       "      <th>Especie</th>\n",
       "      <th>Precio Ext. [USD/kg]</th>\n",
       "      <th>Precio carga [COP/carga]</th>\n",
       "      <th>Unidad de carga [kg/carga]</th>\n",
       "      <th>Periodicidad [#Cosechas/año]</th>\n",
       "      <th>Cantidad [Plant/Hec]</th>\n",
       "      <th>Peso [kg/Planta]</th>\n",
       "      <th>Coef. Rendimiento</th>\n",
       "      <th>Costo del solvente [COP/L]</th>\n",
       "      <th>Gasto solvente [L/lote]</th>\n",
       "      <th>Pérdida solvente [%]</th>\n",
       "      <th>Precio Agente Disp. [COP/kg]</th>\n",
       "      <th>Agente dispersante [kg/lote]</th>\n",
       "    </tr>\n",
       "  </thead>\n",
       "  <tbody>\n",
       "    <tr>\n",
       "      <th>0</th>\n",
       "      <td>Lippia Origanoides</td>\n",
       "      <td>40</td>\n",
       "      <td>300000</td>\n",
       "      <td>6000</td>\n",
       "      <td>4.0</td>\n",
       "      <td>20000.0</td>\n",
       "      <td>0.15</td>\n",
       "      <td>1.0</td>\n",
       "      <td>60000</td>\n",
       "      <td>150</td>\n",
       "      <td>0.15</td>\n",
       "      <td>101.25</td>\n",
       "      <td>160</td>\n",
       "    </tr>\n",
       "    <tr>\n",
       "      <th>1</th>\n",
       "      <td>Lippia Canescens</td>\n",
       "      <td>20</td>\n",
       "      <td>300000</td>\n",
       "      <td>5800</td>\n",
       "      <td>0.0</td>\n",
       "      <td>0.0</td>\n",
       "      <td>0.00</td>\n",
       "      <td>0.8</td>\n",
       "      <td>23900</td>\n",
       "      <td>150</td>\n",
       "      <td>0.10</td>\n",
       "      <td>101.25</td>\n",
       "      <td>160</td>\n",
       "    </tr>\n",
       "  </tbody>\n",
       "</table>\n",
       "</div>"
      ],
      "text/plain": [
       "              Especie  Precio Ext. [USD/kg]  Precio carga [COP/carga]  \\\n",
       "0  Lippia Origanoides                    40                    300000   \n",
       "1    Lippia Canescens                    20                    300000   \n",
       "\n",
       "   Unidad de carga [kg/carga]  Periodicidad [#Cosechas/año]  \\\n",
       "0                        6000                           4.0   \n",
       "1                        5800                           0.0   \n",
       "\n",
       "   Cantidad [Plant/Hec]  Peso [kg/Planta]  Coef. Rendimiento  \\\n",
       "0               20000.0              0.15                1.0   \n",
       "1                   0.0              0.00                0.8   \n",
       "\n",
       "   Costo del solvente [COP/L]  Gasto solvente [L/lote]  Pérdida solvente [%]  \\\n",
       "0                       60000                      150                  0.15   \n",
       "1                       23900                      150                  0.10   \n",
       "\n",
       "   Precio Agente Disp. [COP/kg]  Agente dispersante [kg/lote]  \n",
       "0                        101.25                           160  \n",
       "1                        101.25                           160  "
      ]
     },
     "execution_count": 1,
     "metadata": {},
     "output_type": "execute_result"
    }
   ],
   "source": [
    "import pandas as pd\n",
    "Cosecha = pd.read_excel('Datos.xlsx', sheet_name='Cosecha').fillna(0)\n",
    "Cosecha"
   ]
  },
  {
   "cell_type": "code",
   "execution_count": 2,
   "metadata": {},
   "outputs": [
    {
     "data": {
      "text/html": [
       "<div>\n",
       "<style scoped>\n",
       "    .dataframe tbody tr th:only-of-type {\n",
       "        vertical-align: middle;\n",
       "    }\n",
       "\n",
       "    .dataframe tbody tr th {\n",
       "        vertical-align: top;\n",
       "    }\n",
       "\n",
       "    .dataframe thead th {\n",
       "        text-align: right;\n",
       "    }\n",
       "</style>\n",
       "<table border=\"1\" class=\"dataframe\">\n",
       "  <thead>\n",
       "    <tr style=\"text-align: right;\">\n",
       "      <th></th>\n",
       "      <th>Etapa</th>\n",
       "      <th>Equipo</th>\n",
       "      <th>Inversión inicial [COP]</th>\n",
       "      <th>Inversión inicial [COP]*</th>\n",
       "      <th>Potencia [kW]</th>\n",
       "      <th>Consumo energético [kW-h]**</th>\n",
       "      <th>Rendimiento [%]</th>\n",
       "      <th>Mantenimiento [COP/revisión]</th>\n",
       "      <th>Periodicidad [#Rev/año]</th>\n",
       "    </tr>\n",
       "  </thead>\n",
       "  <tbody>\n",
       "    <tr>\n",
       "      <th>0</th>\n",
       "      <td>Preprocesamiento</td>\n",
       "      <td>Molino de bolas</td>\n",
       "      <td>17335000</td>\n",
       "      <td>2.236215e+07</td>\n",
       "      <td>7.500000</td>\n",
       "      <td>15.000000</td>\n",
       "      <td>0.054</td>\n",
       "      <td>0.0</td>\n",
       "      <td>0.0</td>\n",
       "    </tr>\n",
       "    <tr>\n",
       "      <th>1</th>\n",
       "      <td>0</td>\n",
       "      <td>Molino planetario</td>\n",
       "      <td>4.17942e+07</td>\n",
       "      <td>5.391447e+07</td>\n",
       "      <td>18.082275</td>\n",
       "      <td>18.082275</td>\n",
       "      <td>0.062</td>\n",
       "      <td>0.0</td>\n",
       "      <td>0.0</td>\n",
       "    </tr>\n",
       "    <tr>\n",
       "      <th>2</th>\n",
       "      <td>0</td>\n",
       "      <td>Molino de martillos</td>\n",
       "      <td>1040100</td>\n",
       "      <td>2.941729e+06</td>\n",
       "      <td>2.200000</td>\n",
       "      <td>7.842833</td>\n",
       "      <td>0.022</td>\n",
       "      <td>0.0</td>\n",
       "      <td>0.0</td>\n",
       "    </tr>\n",
       "    <tr>\n",
       "      <th>3</th>\n",
       "      <td>0</td>\n",
       "      <td>Molino de rodillos</td>\n",
       "      <td>6240600</td>\n",
       "      <td>1.099210e+07</td>\n",
       "      <td>7.500000</td>\n",
       "      <td>11.592833</td>\n",
       "      <td>0.027</td>\n",
       "      <td>0.0</td>\n",
       "      <td>0.0</td>\n",
       "    </tr>\n",
       "    <tr>\n",
       "      <th>4</th>\n",
       "      <td>0</td>\n",
       "      <td>Molino de discos</td>\n",
       "      <td>-</td>\n",
       "      <td>4.561729e+06</td>\n",
       "      <td>2.237100</td>\n",
       "      <td>10.079933</td>\n",
       "      <td>0.027</td>\n",
       "      <td>0.0</td>\n",
       "      <td>0.0</td>\n",
       "    </tr>\n",
       "    <tr>\n",
       "      <th>5</th>\n",
       "      <td>0</td>\n",
       "      <td>Peletizadora de matriz plana</td>\n",
       "      <td>-</td>\n",
       "      <td>5.441729e+06</td>\n",
       "      <td>2.000000</td>\n",
       "      <td>20.800000</td>\n",
       "      <td>0.044</td>\n",
       "      <td>0.0</td>\n",
       "      <td>0.0</td>\n",
       "    </tr>\n",
       "    <tr>\n",
       "      <th>6</th>\n",
       "      <td>Elución y filtrado</td>\n",
       "      <td>Gas inerte</td>\n",
       "      <td>-</td>\n",
       "      <td>1.594000e+06</td>\n",
       "      <td>1.491400</td>\n",
       "      <td>1.491400</td>\n",
       "      <td>-</td>\n",
       "      <td>0.0</td>\n",
       "      <td>0.0</td>\n",
       "    </tr>\n",
       "    <tr>\n",
       "      <th>7</th>\n",
       "      <td>0</td>\n",
       "      <td>Cilindro - pistón</td>\n",
       "      <td>422124</td>\n",
       "      <td>7.143174e+05</td>\n",
       "      <td>0.745700</td>\n",
       "      <td>0.745700</td>\n",
       "      <td>-</td>\n",
       "      <td>0.0</td>\n",
       "      <td>0.0</td>\n",
       "    </tr>\n",
       "    <tr>\n",
       "      <th>8</th>\n",
       "      <td>0</td>\n",
       "      <td>Sistema de bombeo</td>\n",
       "      <td>3467000</td>\n",
       "      <td>4.472430e+06</td>\n",
       "      <td>1.000000</td>\n",
       "      <td>1.000000</td>\n",
       "      <td>-</td>\n",
       "      <td>0.0</td>\n",
       "      <td>0.0</td>\n",
       "    </tr>\n",
       "    <tr>\n",
       "      <th>9</th>\n",
       "      <td>Separación de sustancias</td>\n",
       "      <td>Bomba de calor</td>\n",
       "      <td>34570000</td>\n",
       "      <td>4.459530e+07</td>\n",
       "      <td>15.000000</td>\n",
       "      <td>15.000000</td>\n",
       "      <td>-</td>\n",
       "      <td>0.0</td>\n",
       "      <td>0.0</td>\n",
       "    </tr>\n",
       "    <tr>\n",
       "      <th>10</th>\n",
       "      <td>0</td>\n",
       "      <td>Circuito hidráulico</td>\n",
       "      <td>44941000</td>\n",
       "      <td>5.797389e+07</td>\n",
       "      <td>10.000000</td>\n",
       "      <td>10.000000</td>\n",
       "      <td>-</td>\n",
       "      <td>0.0</td>\n",
       "      <td>0.0</td>\n",
       "    </tr>\n",
       "  </tbody>\n",
       "</table>\n",
       "</div>"
      ],
      "text/plain": [
       "                       Etapa                        Equipo  \\\n",
       "0           Preprocesamiento               Molino de bolas   \n",
       "1                          0             Molino planetario   \n",
       "2                          0           Molino de martillos   \n",
       "3                          0            Molino de rodillos   \n",
       "4                          0              Molino de discos   \n",
       "5                          0  Peletizadora de matriz plana   \n",
       "6         Elución y filtrado                    Gas inerte   \n",
       "7                          0             Cilindro - pistón   \n",
       "8                          0             Sistema de bombeo   \n",
       "9   Separación de sustancias                Bomba de calor   \n",
       "10                         0           Circuito hidráulico   \n",
       "\n",
       "   Inversión inicial [COP]  Inversión inicial [COP]*  Potencia [kW]  \\\n",
       "0                 17335000              2.236215e+07       7.500000   \n",
       "1              4.17942e+07              5.391447e+07      18.082275   \n",
       "2                  1040100              2.941729e+06       2.200000   \n",
       "3                  6240600              1.099210e+07       7.500000   \n",
       "4                        -              4.561729e+06       2.237100   \n",
       "5                        -              5.441729e+06       2.000000   \n",
       "6                        -              1.594000e+06       1.491400   \n",
       "7                   422124              7.143174e+05       0.745700   \n",
       "8                  3467000              4.472430e+06       1.000000   \n",
       "9                 34570000              4.459530e+07      15.000000   \n",
       "10                44941000              5.797389e+07      10.000000   \n",
       "\n",
       "    Consumo energético [kW-h]** Rendimiento [%]  Mantenimiento [COP/revisión]  \\\n",
       "0                     15.000000           0.054                           0.0   \n",
       "1                     18.082275           0.062                           0.0   \n",
       "2                      7.842833           0.022                           0.0   \n",
       "3                     11.592833           0.027                           0.0   \n",
       "4                     10.079933           0.027                           0.0   \n",
       "5                     20.800000           0.044                           0.0   \n",
       "6                      1.491400               -                           0.0   \n",
       "7                      0.745700               -                           0.0   \n",
       "8                      1.000000               -                           0.0   \n",
       "9                     15.000000               -                           0.0   \n",
       "10                    10.000000               -                           0.0   \n",
       "\n",
       "    Periodicidad [#Rev/año]  \n",
       "0                       0.0  \n",
       "1                       0.0  \n",
       "2                       0.0  \n",
       "3                       0.0  \n",
       "4                       0.0  \n",
       "5                       0.0  \n",
       "6                       0.0  \n",
       "7                       0.0  \n",
       "8                       0.0  \n",
       "9                       0.0  \n",
       "10                      0.0  "
      ]
     },
     "execution_count": 2,
     "metadata": {},
     "output_type": "execute_result"
    }
   ],
   "source": [
    "Tecn = pd.read_excel('Datos.xlsx', sheet_name='Técnicos').fillna(0)\n",
    "Tecn"
   ]
  },
  {
   "cell_type": "markdown",
   "metadata": {},
   "source": [
    "<div align=\"justify\">\n",
    "    $^*$ El costo de inversión inicial contempla impuestos de aduanas e iva.\n",
    "</div>\n",
    "\n",
    "<br>\n",
    "\n",
    "<div align=\"justify\">\n",
    "    $^{**}$ Para los equipos: molino de martillos, rodillos, discos y peletizadora incluye los costos adicionales por picapasto y molino de martillos. Se calculó con base a la producción de un bache.\n",
    "</div>"
   ]
  },
  {
   "cell_type": "code",
   "execution_count": 3,
   "metadata": {},
   "outputs": [
    {
     "data": {
      "text/html": [
       "<div>\n",
       "<style scoped>\n",
       "    .dataframe tbody tr th:only-of-type {\n",
       "        vertical-align: middle;\n",
       "    }\n",
       "\n",
       "    .dataframe tbody tr th {\n",
       "        vertical-align: top;\n",
       "    }\n",
       "\n",
       "    .dataframe thead th {\n",
       "        text-align: right;\n",
       "    }\n",
       "</style>\n",
       "<table border=\"1\" class=\"dataframe\">\n",
       "  <thead>\n",
       "    <tr style=\"text-align: right;\">\n",
       "      <th></th>\n",
       "      <th>Formación</th>\n",
       "      <th>Cantidad de personal</th>\n",
       "      <th>Salario individual [COP/mensual]</th>\n",
       "    </tr>\n",
       "  </thead>\n",
       "  <tbody>\n",
       "    <tr>\n",
       "      <th>0</th>\n",
       "      <td>Operario</td>\n",
       "      <td>2</td>\n",
       "      <td>828116</td>\n",
       "    </tr>\n",
       "  </tbody>\n",
       "</table>\n",
       "</div>"
      ],
      "text/plain": [
       "  Formación  Cantidad de personal  Salario individual [COP/mensual]\n",
       "0  Operario                     2                            828116"
      ]
     },
     "execution_count": 3,
     "metadata": {},
     "output_type": "execute_result"
    }
   ],
   "source": [
    "Personal = pd.read_excel('Datos.xlsx', sheet_name='Personal').fillna(0)\n",
    "Personal"
   ]
  },
  {
   "cell_type": "code",
   "execution_count": 4,
   "metadata": {},
   "outputs": [
    {
     "data": {
      "text/html": [
       "<div>\n",
       "<style scoped>\n",
       "    .dataframe tbody tr th:only-of-type {\n",
       "        vertical-align: middle;\n",
       "    }\n",
       "\n",
       "    .dataframe tbody tr th {\n",
       "        vertical-align: top;\n",
       "    }\n",
       "\n",
       "    .dataframe thead th {\n",
       "        text-align: right;\n",
       "    }\n",
       "</style>\n",
       "<table border=\"1\" class=\"dataframe\">\n",
       "  <thead>\n",
       "    <tr style=\"text-align: right;\">\n",
       "      <th></th>\n",
       "      <th>Parámetro</th>\n",
       "      <th>Valor</th>\n",
       "    </tr>\n",
       "  </thead>\n",
       "  <tbody>\n",
       "    <tr>\n",
       "      <th>0</th>\n",
       "      <td>Interés BM</td>\n",
       "      <td>0.1000</td>\n",
       "    </tr>\n",
       "    <tr>\n",
       "      <th>1</th>\n",
       "      <td>TREMA</td>\n",
       "      <td>0.2500</td>\n",
       "    </tr>\n",
       "    <tr>\n",
       "      <th>2</th>\n",
       "      <td>Inflación nacional</td>\n",
       "      <td>0.0366</td>\n",
       "    </tr>\n",
       "    <tr>\n",
       "      <th>3</th>\n",
       "      <td>Inflación USD</td>\n",
       "      <td>0.0181</td>\n",
       "    </tr>\n",
       "    <tr>\n",
       "      <th>4</th>\n",
       "      <td>Impuestos nacionales</td>\n",
       "      <td>0.1900</td>\n",
       "    </tr>\n",
       "    <tr>\n",
       "      <th>5</th>\n",
       "      <td>Tarifa kW-h</td>\n",
       "      <td>535.0000</td>\n",
       "    </tr>\n",
       "  </tbody>\n",
       "</table>\n",
       "</div>"
      ],
      "text/plain": [
       "              Parámetro     Valor\n",
       "0            Interés BM    0.1000\n",
       "1                 TREMA    0.2500\n",
       "2    Inflación nacional    0.0366\n",
       "3         Inflación USD    0.0181\n",
       "4  Impuestos nacionales    0.1900\n",
       "5           Tarifa kW-h  535.0000"
      ]
     },
     "execution_count": 4,
     "metadata": {},
     "output_type": "execute_result"
    }
   ],
   "source": [
    "Ec = pd.read_excel('Datos.xlsx', sheet_name='Indices Ec.').fillna(0)\n",
    "IE = {}\n",
    "for i in range(len(Ec['Parámetro'])):\n",
    "    IE[Ec['Parámetro'][i]] = Ec['Valor'][i]\n",
    "Ec"
   ]
  },
  {
   "cell_type": "markdown",
   "metadata": {},
   "source": [
    "## __4. Cálculos financieros__\n",
    "\n",
    "<div align=\"justify\">\n",
    "    Para calcular los índices financieros (TIR y VPN), se requiere de lo siguiente: \n",
    "</div>\n",
    "\n",
    "* Costo de inversión inicial total.\n",
    "* Anualidad.\n",
    "* Inflación nacional y extranjera.\n",
    "* Interés del banco mundial.\n",
    "\n",
    "### 4.1. Costo de invesión inicial\n",
    "\n",
    "<div align=\"justify\">\n",
    "    El costo de inversión inicial varía por cada una de las alternativas de cada etapa del proceso de extracción. Para ello, se desarrolla un algoritmo que evalúa el costo de inversión inicial de la combinación de todas las alternativas posibles.\n",
    "</div>"
   ]
  },
  {
   "cell_type": "code",
   "execution_count": 5,
   "metadata": {},
   "outputs": [
    {
     "data": {
      "application/vnd.jupyter.widget-view+json": {
       "model_id": "d580b4f6c720470cb0ef7ba98c01aa30",
       "version_major": 2,
       "version_minor": 0
      },
      "text/plain": [
       "FigureWidget({\n",
       "    'data': [],\n",
       "    'layout': {'template': '...',\n",
       "               'title': {'text': 'Costo de in…"
      ]
     },
     "metadata": {},
     "output_type": "display_data"
    }
   ],
   "source": [
    "import plotly.graph_objs as go\n",
    "import numpy as np\n",
    "fig2 = go.FigureWidget()\n",
    "fig2.update_layout(\n",
    "    title=go.layout.Title(\n",
    "        text = \"Costo de inversión inicial por combinación\",\n",
    "    ),\n",
    "    xaxis=go.layout.XAxis(title=go.layout.xaxis.Title(\n",
    "        text =\"Combinación\",\n",
    "        font=dict(\n",
    "            family=\"Courier New, monospace\",\n",
    "            size=18,\n",
    "            color = \"#7f7f7f\"\n",
    "        )\n",
    "    )),\n",
    "    yaxis=go.layout.YAxis(title=go.layout.yaxis.Title(\n",
    "        text =\"Costo [COP]\",\n",
    "        font=dict(\n",
    "            family=\"Courier New, monospace\",\n",
    "            size=18,\n",
    "            color = \"#7f7f7f\"\n",
    "        )\n",
    "    ))\n",
    ")"
   ]
  },
  {
   "cell_type": "code",
   "execution_count": 6,
   "metadata": {},
   "outputs": [
    {
     "data": {
      "text/html": [
       "<div>\n",
       "<style scoped>\n",
       "    .dataframe tbody tr th:only-of-type {\n",
       "        vertical-align: middle;\n",
       "    }\n",
       "\n",
       "    .dataframe tbody tr th {\n",
       "        vertical-align: top;\n",
       "    }\n",
       "\n",
       "    .dataframe thead th {\n",
       "        text-align: right;\n",
       "    }\n",
       "</style>\n",
       "<table border=\"1\" class=\"dataframe\">\n",
       "  <thead>\n",
       "    <tr style=\"text-align: right;\">\n",
       "      <th></th>\n",
       "      <th>Combinación</th>\n",
       "      <th>Inversión</th>\n",
       "      <th>Consumo</th>\n",
       "      <th>Rendimiento</th>\n",
       "    </tr>\n",
       "  </thead>\n",
       "  <tbody>\n",
       "    <tr>\n",
       "      <th>0</th>\n",
       "      <td>Molino de bolas - Gas inerte - Bomba de calor</td>\n",
       "      <td>6.855145e+07</td>\n",
       "      <td>31.491400</td>\n",
       "      <td>0.054</td>\n",
       "    </tr>\n",
       "    <tr>\n",
       "      <th>1</th>\n",
       "      <td>Molino de bolas - Gas inerte - Circuito hidráu...</td>\n",
       "      <td>8.193004e+07</td>\n",
       "      <td>26.491400</td>\n",
       "      <td>0.054</td>\n",
       "    </tr>\n",
       "    <tr>\n",
       "      <th>2</th>\n",
       "      <td>Molino de bolas - Cilindro - pistón - Bomba de...</td>\n",
       "      <td>6.767177e+07</td>\n",
       "      <td>30.745700</td>\n",
       "      <td>0.054</td>\n",
       "    </tr>\n",
       "    <tr>\n",
       "      <th>3</th>\n",
       "      <td>Molino de bolas - Cilindro - pistón - Circuito...</td>\n",
       "      <td>8.105036e+07</td>\n",
       "      <td>25.745700</td>\n",
       "      <td>0.054</td>\n",
       "    </tr>\n",
       "    <tr>\n",
       "      <th>4</th>\n",
       "      <td>Molino de bolas - Sistema de bombeo - Bomba de...</td>\n",
       "      <td>7.142988e+07</td>\n",
       "      <td>31.000000</td>\n",
       "      <td>0.054</td>\n",
       "    </tr>\n",
       "    <tr>\n",
       "      <th>5</th>\n",
       "      <td>Molino de bolas - Sistema de bombeo - Circuito...</td>\n",
       "      <td>8.480847e+07</td>\n",
       "      <td>26.000000</td>\n",
       "      <td>0.054</td>\n",
       "    </tr>\n",
       "    <tr>\n",
       "      <th>6</th>\n",
       "      <td>Molino planetario - Gas inerte - Bomba de calor</td>\n",
       "      <td>1.001038e+08</td>\n",
       "      <td>34.573675</td>\n",
       "      <td>0.062</td>\n",
       "    </tr>\n",
       "    <tr>\n",
       "      <th>7</th>\n",
       "      <td>Molino planetario - Gas inerte - Circuito hidr...</td>\n",
       "      <td>1.134824e+08</td>\n",
       "      <td>29.573675</td>\n",
       "      <td>0.062</td>\n",
       "    </tr>\n",
       "    <tr>\n",
       "      <th>8</th>\n",
       "      <td>Molino planetario - Cilindro - pistón - Bomba ...</td>\n",
       "      <td>9.922409e+07</td>\n",
       "      <td>33.827975</td>\n",
       "      <td>0.062</td>\n",
       "    </tr>\n",
       "    <tr>\n",
       "      <th>9</th>\n",
       "      <td>Molino planetario - Cilindro - pistón - Circui...</td>\n",
       "      <td>1.126027e+08</td>\n",
       "      <td>28.827975</td>\n",
       "      <td>0.062</td>\n",
       "    </tr>\n",
       "    <tr>\n",
       "      <th>10</th>\n",
       "      <td>Molino planetario - Sistema de bombeo - Bomba ...</td>\n",
       "      <td>1.029822e+08</td>\n",
       "      <td>34.082275</td>\n",
       "      <td>0.062</td>\n",
       "    </tr>\n",
       "    <tr>\n",
       "      <th>11</th>\n",
       "      <td>Molino planetario - Sistema de bombeo - Circui...</td>\n",
       "      <td>1.163608e+08</td>\n",
       "      <td>29.082275</td>\n",
       "      <td>0.062</td>\n",
       "    </tr>\n",
       "    <tr>\n",
       "      <th>12</th>\n",
       "      <td>Molino de martillos - Gas inerte - Bomba de calor</td>\n",
       "      <td>4.913103e+07</td>\n",
       "      <td>24.334233</td>\n",
       "      <td>0.022</td>\n",
       "    </tr>\n",
       "    <tr>\n",
       "      <th>13</th>\n",
       "      <td>Molino de martillos - Gas inerte - Circuito hi...</td>\n",
       "      <td>6.250962e+07</td>\n",
       "      <td>19.334233</td>\n",
       "      <td>0.022</td>\n",
       "    </tr>\n",
       "    <tr>\n",
       "      <th>14</th>\n",
       "      <td>Molino de martillos - Cilindro - pistón - Bomb...</td>\n",
       "      <td>4.825135e+07</td>\n",
       "      <td>23.588533</td>\n",
       "      <td>0.022</td>\n",
       "    </tr>\n",
       "    <tr>\n",
       "      <th>15</th>\n",
       "      <td>Molino de martillos - Cilindro - pistón - Circ...</td>\n",
       "      <td>6.162994e+07</td>\n",
       "      <td>18.588533</td>\n",
       "      <td>0.022</td>\n",
       "    </tr>\n",
       "    <tr>\n",
       "      <th>16</th>\n",
       "      <td>Molino de martillos - Sistema de bombeo - Bomb...</td>\n",
       "      <td>5.200946e+07</td>\n",
       "      <td>23.842833</td>\n",
       "      <td>0.022</td>\n",
       "    </tr>\n",
       "    <tr>\n",
       "      <th>17</th>\n",
       "      <td>Molino de martillos - Sistema de bombeo - Circ...</td>\n",
       "      <td>6.538805e+07</td>\n",
       "      <td>18.842833</td>\n",
       "      <td>0.022</td>\n",
       "    </tr>\n",
       "    <tr>\n",
       "      <th>18</th>\n",
       "      <td>Molino de rodillos - Gas inerte - Bomba de calor</td>\n",
       "      <td>5.718140e+07</td>\n",
       "      <td>28.084233</td>\n",
       "      <td>0.027</td>\n",
       "    </tr>\n",
       "    <tr>\n",
       "      <th>19</th>\n",
       "      <td>Molino de rodillos - Gas inerte - Circuito hid...</td>\n",
       "      <td>7.055999e+07</td>\n",
       "      <td>23.084233</td>\n",
       "      <td>0.027</td>\n",
       "    </tr>\n",
       "    <tr>\n",
       "      <th>20</th>\n",
       "      <td>Molino de rodillos - Cilindro - pistón - Bomba...</td>\n",
       "      <td>5.630172e+07</td>\n",
       "      <td>27.338533</td>\n",
       "      <td>0.027</td>\n",
       "    </tr>\n",
       "    <tr>\n",
       "      <th>21</th>\n",
       "      <td>Molino de rodillos - Cilindro - pistón - Circu...</td>\n",
       "      <td>6.968031e+07</td>\n",
       "      <td>22.338533</td>\n",
       "      <td>0.027</td>\n",
       "    </tr>\n",
       "    <tr>\n",
       "      <th>22</th>\n",
       "      <td>Molino de rodillos - Sistema de bombeo - Bomba...</td>\n",
       "      <td>6.005983e+07</td>\n",
       "      <td>27.592833</td>\n",
       "      <td>0.027</td>\n",
       "    </tr>\n",
       "    <tr>\n",
       "      <th>23</th>\n",
       "      <td>Molino de rodillos - Sistema de bombeo - Circu...</td>\n",
       "      <td>7.343842e+07</td>\n",
       "      <td>22.592833</td>\n",
       "      <td>0.027</td>\n",
       "    </tr>\n",
       "    <tr>\n",
       "      <th>24</th>\n",
       "      <td>Molino de discos - Gas inerte - Bomba de calor</td>\n",
       "      <td>5.075103e+07</td>\n",
       "      <td>26.571333</td>\n",
       "      <td>0.027</td>\n",
       "    </tr>\n",
       "    <tr>\n",
       "      <th>25</th>\n",
       "      <td>Molino de discos - Gas inerte - Circuito hidrá...</td>\n",
       "      <td>6.412962e+07</td>\n",
       "      <td>21.571333</td>\n",
       "      <td>0.027</td>\n",
       "    </tr>\n",
       "    <tr>\n",
       "      <th>26</th>\n",
       "      <td>Molino de discos - Cilindro - pistón - Bomba d...</td>\n",
       "      <td>4.987135e+07</td>\n",
       "      <td>25.825633</td>\n",
       "      <td>0.027</td>\n",
       "    </tr>\n",
       "    <tr>\n",
       "      <th>27</th>\n",
       "      <td>Molino de discos - Cilindro - pistón - Circuit...</td>\n",
       "      <td>6.324994e+07</td>\n",
       "      <td>20.825633</td>\n",
       "      <td>0.027</td>\n",
       "    </tr>\n",
       "    <tr>\n",
       "      <th>28</th>\n",
       "      <td>Molino de discos - Sistema de bombeo - Bomba d...</td>\n",
       "      <td>5.362946e+07</td>\n",
       "      <td>26.079933</td>\n",
       "      <td>0.027</td>\n",
       "    </tr>\n",
       "    <tr>\n",
       "      <th>29</th>\n",
       "      <td>Molino de discos - Sistema de bombeo - Circuit...</td>\n",
       "      <td>6.700805e+07</td>\n",
       "      <td>21.079933</td>\n",
       "      <td>0.027</td>\n",
       "    </tr>\n",
       "    <tr>\n",
       "      <th>30</th>\n",
       "      <td>Peletizadora de matriz plana - Gas inerte - Bo...</td>\n",
       "      <td>5.163103e+07</td>\n",
       "      <td>37.291400</td>\n",
       "      <td>0.044</td>\n",
       "    </tr>\n",
       "    <tr>\n",
       "      <th>31</th>\n",
       "      <td>Peletizadora de matriz plana - Gas inerte - Ci...</td>\n",
       "      <td>6.500962e+07</td>\n",
       "      <td>32.291400</td>\n",
       "      <td>0.044</td>\n",
       "    </tr>\n",
       "    <tr>\n",
       "      <th>32</th>\n",
       "      <td>Peletizadora de matriz plana - Cilindro - pist...</td>\n",
       "      <td>5.075135e+07</td>\n",
       "      <td>36.545700</td>\n",
       "      <td>0.044</td>\n",
       "    </tr>\n",
       "    <tr>\n",
       "      <th>33</th>\n",
       "      <td>Peletizadora de matriz plana - Cilindro - pist...</td>\n",
       "      <td>6.412994e+07</td>\n",
       "      <td>31.545700</td>\n",
       "      <td>0.044</td>\n",
       "    </tr>\n",
       "    <tr>\n",
       "      <th>34</th>\n",
       "      <td>Peletizadora de matriz plana - Sistema de bomb...</td>\n",
       "      <td>5.450946e+07</td>\n",
       "      <td>36.800000</td>\n",
       "      <td>0.044</td>\n",
       "    </tr>\n",
       "    <tr>\n",
       "      <th>35</th>\n",
       "      <td>Peletizadora de matriz plana - Sistema de bomb...</td>\n",
       "      <td>6.788805e+07</td>\n",
       "      <td>31.800000</td>\n",
       "      <td>0.044</td>\n",
       "    </tr>\n",
       "  </tbody>\n",
       "</table>\n",
       "</div>"
      ],
      "text/plain": [
       "                                          Combinación     Inversión  \\\n",
       "0       Molino de bolas - Gas inerte - Bomba de calor  6.855145e+07   \n",
       "1   Molino de bolas - Gas inerte - Circuito hidráu...  8.193004e+07   \n",
       "2   Molino de bolas - Cilindro - pistón - Bomba de...  6.767177e+07   \n",
       "3   Molino de bolas - Cilindro - pistón - Circuito...  8.105036e+07   \n",
       "4   Molino de bolas - Sistema de bombeo - Bomba de...  7.142988e+07   \n",
       "5   Molino de bolas - Sistema de bombeo - Circuito...  8.480847e+07   \n",
       "6     Molino planetario - Gas inerte - Bomba de calor  1.001038e+08   \n",
       "7   Molino planetario - Gas inerte - Circuito hidr...  1.134824e+08   \n",
       "8   Molino planetario - Cilindro - pistón - Bomba ...  9.922409e+07   \n",
       "9   Molino planetario - Cilindro - pistón - Circui...  1.126027e+08   \n",
       "10  Molino planetario - Sistema de bombeo - Bomba ...  1.029822e+08   \n",
       "11  Molino planetario - Sistema de bombeo - Circui...  1.163608e+08   \n",
       "12  Molino de martillos - Gas inerte - Bomba de calor  4.913103e+07   \n",
       "13  Molino de martillos - Gas inerte - Circuito hi...  6.250962e+07   \n",
       "14  Molino de martillos - Cilindro - pistón - Bomb...  4.825135e+07   \n",
       "15  Molino de martillos - Cilindro - pistón - Circ...  6.162994e+07   \n",
       "16  Molino de martillos - Sistema de bombeo - Bomb...  5.200946e+07   \n",
       "17  Molino de martillos - Sistema de bombeo - Circ...  6.538805e+07   \n",
       "18   Molino de rodillos - Gas inerte - Bomba de calor  5.718140e+07   \n",
       "19  Molino de rodillos - Gas inerte - Circuito hid...  7.055999e+07   \n",
       "20  Molino de rodillos - Cilindro - pistón - Bomba...  5.630172e+07   \n",
       "21  Molino de rodillos - Cilindro - pistón - Circu...  6.968031e+07   \n",
       "22  Molino de rodillos - Sistema de bombeo - Bomba...  6.005983e+07   \n",
       "23  Molino de rodillos - Sistema de bombeo - Circu...  7.343842e+07   \n",
       "24     Molino de discos - Gas inerte - Bomba de calor  5.075103e+07   \n",
       "25  Molino de discos - Gas inerte - Circuito hidrá...  6.412962e+07   \n",
       "26  Molino de discos - Cilindro - pistón - Bomba d...  4.987135e+07   \n",
       "27  Molino de discos - Cilindro - pistón - Circuit...  6.324994e+07   \n",
       "28  Molino de discos - Sistema de bombeo - Bomba d...  5.362946e+07   \n",
       "29  Molino de discos - Sistema de bombeo - Circuit...  6.700805e+07   \n",
       "30  Peletizadora de matriz plana - Gas inerte - Bo...  5.163103e+07   \n",
       "31  Peletizadora de matriz plana - Gas inerte - Ci...  6.500962e+07   \n",
       "32  Peletizadora de matriz plana - Cilindro - pist...  5.075135e+07   \n",
       "33  Peletizadora de matriz plana - Cilindro - pist...  6.412994e+07   \n",
       "34  Peletizadora de matriz plana - Sistema de bomb...  5.450946e+07   \n",
       "35  Peletizadora de matriz plana - Sistema de bomb...  6.788805e+07   \n",
       "\n",
       "      Consumo  Rendimiento  \n",
       "0   31.491400        0.054  \n",
       "1   26.491400        0.054  \n",
       "2   30.745700        0.054  \n",
       "3   25.745700        0.054  \n",
       "4   31.000000        0.054  \n",
       "5   26.000000        0.054  \n",
       "6   34.573675        0.062  \n",
       "7   29.573675        0.062  \n",
       "8   33.827975        0.062  \n",
       "9   28.827975        0.062  \n",
       "10  34.082275        0.062  \n",
       "11  29.082275        0.062  \n",
       "12  24.334233        0.022  \n",
       "13  19.334233        0.022  \n",
       "14  23.588533        0.022  \n",
       "15  18.588533        0.022  \n",
       "16  23.842833        0.022  \n",
       "17  18.842833        0.022  \n",
       "18  28.084233        0.027  \n",
       "19  23.084233        0.027  \n",
       "20  27.338533        0.027  \n",
       "21  22.338533        0.027  \n",
       "22  27.592833        0.027  \n",
       "23  22.592833        0.027  \n",
       "24  26.571333        0.027  \n",
       "25  21.571333        0.027  \n",
       "26  25.825633        0.027  \n",
       "27  20.825633        0.027  \n",
       "28  26.079933        0.027  \n",
       "29  21.079933        0.027  \n",
       "30  37.291400        0.044  \n",
       "31  32.291400        0.044  \n",
       "32  36.545700        0.044  \n",
       "33  31.545700        0.044  \n",
       "34  36.800000        0.044  \n",
       "35  31.800000        0.044  "
      ]
     },
     "execution_count": 6,
     "metadata": {},
     "output_type": "execute_result"
    }
   ],
   "source": [
    "Equipos = {\n",
    "    'Preprocesamiento':[],\n",
    "    'Elución':[],\n",
    "    'Separación':[]\n",
    "}\n",
    "for i in range(len(Tecn['Equipo'])):\n",
    "    if i <= 5:\n",
    "        etapa = 'Preprocesamiento'\n",
    "    elif i <= 8:\n",
    "        etapa = 'Elución'\n",
    "    else:\n",
    "        etapa = 'Separación'\n",
    "    Equipos[etapa].append({\n",
    "            'Nombre': Tecn['Equipo'][i],\n",
    "            'Inversión': Tecn['Inversión inicial [COP]*'][i],\n",
    "            'Rendimiento': Tecn['Rendimiento [%]'][i],\n",
    "            'Consumo':Tecn['Consumo energético [kW-h]**'][i]\n",
    "        })\n",
    "combinaciones = {\n",
    "    'Combinación':[],\n",
    "    'Inversión':[],\n",
    "    'Consumo':[],\n",
    "    'Rendimiento':[]\n",
    "}\n",
    "for pre in Equipos['Preprocesamiento']:\n",
    "    for el in Equipos['Elución']:\n",
    "        for sep in Equipos['Separación']:\n",
    "            combinaciones['Combinación'].append(pre['Nombre'] + ' - '  + el['Nombre'] + ' - ' +  sep['Nombre'])\n",
    "            combinaciones['Inversión'].append(pre['Inversión'] + el['Inversión'] + sep['Inversión'])\n",
    "            combinaciones['Rendimiento'].append(pre['Rendimiento'])\n",
    "            combinaciones['Consumo'].append(pre['Consumo'] + el['Consumo'] + sep['Consumo'])\n",
    "Eco = pd.DataFrame(combinaciones)\n",
    "fig2.add_bar(y=Eco['Inversión'], x=Eco['Combinación'])\n",
    "Eco"
   ]
  },
  {
   "cell_type": "markdown",
   "metadata": {},
   "source": [
    "### 4.2. Anualidad\n",
    "\n",
    "<div align=\"justify\">\n",
    "    Para el cálculo de la anualidad, se deben definir las <i>entradas</i> y <i>salidas</i> de dinero a través del tiempo.\n",
    "    <br>\n",
    "    <br>\n",
    "    Para calcular las <i>entradas</i>, básicamente se trata de convertir el rendimiento de extracción en peso colombiano. Se supondrá lo siguiente:\n",
    "</div>\n",
    "\n",
    "* Cada bache de $20 [kg]$ se procesa en 3 horas, 3 baches al día.\n",
    "* Producción continua durante todo el año.\n",
    "* Venta mensual.\n",
    "\n",
    "<div align=\"justify\">\n",
    "    Iniciamos desarrollando una figura interactiva vacía...\n",
    "</div>"
   ]
  },
  {
   "cell_type": "code",
   "execution_count": 7,
   "metadata": {},
   "outputs": [
    {
     "data": {
      "application/vnd.jupyter.widget-view+json": {
       "model_id": "7b87900bf2a44ea18a2b5727e6a2d8b1",
       "version_major": 2,
       "version_minor": 0
      },
      "text/plain": [
       "FigureWidget({\n",
       "    'data': [],\n",
       "    'layout': {'template': '...',\n",
       "               'title': {'text': 'Análisis de…"
      ]
     },
     "metadata": {},
     "output_type": "display_data"
    }
   ],
   "source": [
    "import plotly.graph_objs as go\n",
    "import numpy as np\n",
    "fig = go.FigureWidget()\n",
    "fig.update_layout(\n",
    "    title=go.layout.Title(\n",
    "        text = \"Análisis de anualidad por combinación y especie vegetal\",\n",
    "    ),\n",
    "    xaxis=go.layout.XAxis(title=go.layout.xaxis.Title(\n",
    "        text =\"Combinación\",\n",
    "        font=dict(\n",
    "            family=\"Courier New, monospace\",\n",
    "            size=18,\n",
    "            color = \"#7f7f7f\"\n",
    "        )\n",
    "    )),\n",
    "    yaxis=go.layout.YAxis(title=go.layout.yaxis.Title(\n",
    "        text =\"Anualidad [COP]\",\n",
    "        font=dict(\n",
    "            family=\"Courier New, monospace\",\n",
    "            size=18,\n",
    "            color = \"#7f7f7f\"\n",
    "        )\n",
    "    ))\n",
    ")"
   ]
  },
  {
   "cell_type": "code",
   "execution_count": 8,
   "metadata": {},
   "outputs": [
    {
     "data": {
      "application/vnd.jupyter.widget-view+json": {
       "model_id": "4812d18388284459b9c14028d99a8620",
       "version_major": 2,
       "version_minor": 0
      },
      "text/plain": [
       "interactive(children=(Dropdown(description='Especie', options=('Lippia Origanoides', 'Lippia Canescens'), valu…"
      ]
     },
     "metadata": {},
     "output_type": "display_data"
    }
   ],
   "source": [
    "from IPython.display import display, HTML\n",
    "from ipywidgets import *\n",
    "import matplotlib.pyplot as plt\n",
    "#Información de las cosechas\n",
    "cosecha = {}\n",
    "especies = []\n",
    "for i in range(len(Cosecha['Especie'])):\n",
    "    especies.append(Cosecha['Especie'][i])\n",
    "    cosecha[Cosecha['Especie'][i]] = {\n",
    "        'Precio': Cosecha['Precio Ext. [USD/kg]'][i],\n",
    "        'Coef':Cosecha['Coef. Rendimiento'][i],\n",
    "        'Costo Solvente': Cosecha['Costo del solvente [COP/L]'][i],\n",
    "        'Cant. Solvente': Cosecha['Gasto solvente [L/lote]'][i],\n",
    "        'Solvente Pérdida': Cosecha['Pérdida solvente [%]'][i],\n",
    "        'Precio AD': Cosecha['Precio Agente Disp. [COP/kg]'][i],\n",
    "        'AD': Cosecha['Agente dispersante [kg/lote]'][i]\n",
    "    }\n",
    "\n",
    "def Table(Especie='Lippia Origanoides'):\n",
    "    info = {\n",
    "        'Entradas':[],\n",
    "        'Salidas':[],\n",
    "        'Anualidad':[]\n",
    "    }\n",
    "    #Salario mensual trabajadores\n",
    "    for i in range(len(Personal['Formación'])):\n",
    "        salarios = Personal['Cantidad de personal'][i]*Personal['Salario individual [COP/mensual]'][i]\n",
    "    for i in range(len(Eco['Combinación'])):\n",
    "        #---Entradas por mes (en dólares)---\n",
    "        info['Entradas'].append(Eco['Rendimiento'][i]*cosecha[Especie]['Coef']*20*3*cosecha[Especie]['Precio']*30)\n",
    "        #---Salidas por mes---\n",
    "        #Agente dispersante - mes\n",
    "        if Eco['Combinación'][i][0] == 'Molino de bolas' or Eco['Combinación'][i][0] == 'Molino planetario':\n",
    "            ad = cosecha[Especie]['Precio AD']*cosecha[Especie]['AD']*3*30\n",
    "        else:\n",
    "            ad = 0\n",
    "        #Energía - mes\n",
    "        energy = Eco['Consumo'][i]*IE['Tarifa kW-h']*3*30\n",
    "        info['Salidas'].append(\n",
    "            #Solvente\n",
    "            cosecha[Especie]['Costo Solvente']*cosecha[Especie]['Cant. Solvente']*cosecha[Especie]['Solvente Pérdida'] + \\\n",
    "            ad + salarios+energy\n",
    "        )\n",
    "        info['Anualidad'].append(info['Entradas'][-1]*3457 - info['Salidas'][-1])\n",
    "    Eco['Entradas [USD]'] = info['Entradas']\n",
    "    Eco['Salidas [COP]'] = info['Salidas']\n",
    "    Eco['Anualidad [COP]*'] = info['Anualidad']\n",
    "    new = Eco\n",
    "    #new = new.rename(index=str, columns={'Rendimiento':'Entradas'})\n",
    "    imprime = True\n",
    "    for especie in spec:\n",
    "        if especie == Especie:\n",
    "            imprime = False\n",
    "    if imprime:\n",
    "        fig.add_bar(y=info['Anualidad'], x=Eco['Combinación'], name=Especie)\n",
    "        spec.append(Especie)\n",
    "    display(new[['Combinación','Entradas [USD]', 'Salidas [COP]', 'Anualidad [COP]*']])\n",
    "spec = []\n",
    "Entradas = interactive(Table,\n",
    "                      Especie = especies)\n",
    "display(Entradas)"
   ]
  },
  {
   "cell_type": "markdown",
   "metadata": {},
   "source": [
    "### 4.3. Inflación nacional y extranjera\n",
    "\n",
    "<div align=\"justify\">\n",
    "    Los resultados de anualidad mostrados en la sección anterior corresponden a la diferencia entre entradas (USD) y salidas (COP) estando el dólar a $\\$3,467$ pesos. Debido a ello, tanto las entradas como salidas deben evaluarse por separado a sus tasas de inflación correspondientes en pesos circulantes (ver Figura 4).\n",
    "</div>\n",
    "\n",
    "<div align=\"center\">\n",
    "    <table>\n",
    "        <tr>\n",
    "            <td>\n",
    "                <img src=\"Images/ext.PNG\" style=\"width: 300px;\" />\n",
    "            </td>\n",
    "            <td>\n",
    "                <img src=\"Images/cop.PNG\" style=\"width: 800px;\" />\n",
    "            </td>\n",
    "        </tr>\n",
    "    </table>\n",
    "</div>\n",
    "<div align=\"center\">\n",
    "    <i>Figura 9.</i> Inflación nacional$^{Fuente}$ (izquierda) y extranjera$^{Fuente}$ (derecha) de los últimos 10 años.\n",
    "</div>\n",
    "\n",
    "<br>\n",
    "\n",
    "<div align=\"justify\">\n",
    "    Como se puede apreciar en la Figura 9, la inflación media extranjera es del $1.8\\%$, mientras que la inflación media nacional es del $3.66\\%$. La relación temporal entre el peso colombiano y el dólar se puede apreciar a continuación.\n",
    "</div>"
   ]
  },
  {
   "cell_type": "code",
   "execution_count": 9,
   "metadata": {},
   "outputs": [
    {
     "data": {
      "image/png": "[encoded data removed]",
      "text/plain": [
       "<Figure size 1152x1152 with 3 Axes>"
      ]
     },
     "metadata": {
      "needs_background": "light"
     },
     "output_type": "display_data"
    }
   ],
   "source": [
    "%matplotlib inline\n",
    "import matplotlib.pyplot as plt\n",
    "import numpy as np\n",
    "monedas = {\n",
    "    'usd':{\n",
    "        'inf':1.8,\n",
    "        'timeline': {\n",
    "            2019: 1 \n",
    "        }\n",
    "    },\n",
    "    'cop': {\n",
    "        'inf': 3.66,\n",
    "        'timeline': {\n",
    "            2019:3467\n",
    "        }\n",
    "    },\n",
    "    'relación': {\n",
    "        'timeline': {\n",
    "             2019:3467\n",
    "        }\n",
    "    }\n",
    "}\n",
    "\n",
    "fig2, ax = plt.subplots(3, figsize=(16,16))\n",
    "hoy = 2019\n",
    "for i in range(10):\n",
    "    for m in ['usd', 'cop']:\n",
    "        monedas[m]['timeline'][hoy+i+1] = monedas[m]['timeline'][hoy]*\\\n",
    "            (1+monedas[m]['inf']/100)**(i+1)\n",
    "    monedas['relación']['timeline'][hoy+i+1] = \\\n",
    "        monedas['cop']['timeline'][hoy+i+1]/monedas['usd']['timeline'][hoy+i+1]\n",
    "for m in [[0,'usd', 'blue'], [1,'cop', 'red'], [2,'relación', 'black']]:\n",
    "    ax[m[0]].scatter(\n",
    "        x = [key for key, value in monedas[m[1]]['timeline'].items()],\n",
    "        y = [value for key, value in monedas[m[1]]['timeline'].items()],\n",
    "        c = m[2]\n",
    "    )    \n",
    "for info in [[0, 'Inflación Dólar'], [1, 'Inflación Peso'], [2, 'Relación Peso/Dólar']]:\n",
    "    ax[info[0]].set_title(info[1])\n",
    "for info in [[0, 'USD'], [1, 'COP'], [2, 'COP/USD']]:\n",
    "    ax[info[0]].set(xlabel='Tiempo [años]', ylabel=info[1])"
   ]
  },
  {
   "cell_type": "markdown",
   "metadata": {},
   "source": [
    "<div align=\"justify\">\n",
    "    Ahora, se puede mostrar la línea de tiempo de estudio con el balance financiero esperado.\n",
    "</div>"
   ]
  },
  {
   "cell_type": "code",
   "execution_count": 10,
   "metadata": {},
   "outputs": [
    {
     "data": {
      "application/vnd.jupyter.widget-view+json": {
       "model_id": "63700efc8b434850a5d7ab75efe60bc9",
       "version_major": 2,
       "version_minor": 0
      },
      "text/plain": [
       "interactive(children=(Dropdown(description='Opcion', options=('Molino de bolas - Gas inerte - Bomba de calor',…"
      ]
     },
     "metadata": {},
     "output_type": "display_data"
    }
   ],
   "source": [
    "from math import floor\n",
    "def Money(valor):\n",
    "    if valor < 0:\n",
    "        s = str(-1)\n",
    "        text = s[:-1]\n",
    "        v = str(valor)\n",
    "        valor = float(str(v[1:]))\n",
    "    else:\n",
    "        text = ''\n",
    "    return text + '${:,.2f}'.format(valor)\n",
    "\n",
    "def Diagrama(Opcion, Vida=2):\n",
    "    Datos['fig'] = ((14/9)*Vida+6.44,7)\n",
    "    fig = plt.figure(figsize=((14/9)*Vida+6.44,7))\n",
    "    ax = plt.axes()\n",
    "    Datos['Inv'] = Eco.loc[int(Eco[Eco['Combinación']== Opcion].index[0]), \"Inversión\"]\n",
    "    Datos['Ent'] = Eco.loc[int(Eco[Eco['Combinación']== Opcion].index[0]), \"Entradas [USD]\"]\n",
    "    Datos['Sal'] = Eco.loc[int(Eco[Eco['Combinación']== Opcion].index[0]), \"Salidas [COP]\"]\n",
    "    Datos['inf'] = monedas['relación']['timeline']\n",
    "    Datos['Anualidades'] = {}\n",
    "    Datos['Vida'] = Vida\n",
    "    #Referencia\n",
    "    ax.plot([0,12*Vida], [0,0], c='black')\n",
    "    #Inversión\n",
    "    ax.arrow(0,0,0,-0.95*Datos['Inv'], head_width=0.2*Vida, head_length=0.05*Datos['Inv'], fc='red', ec='red')\n",
    "    ax.annotate(str(Money(-Datos['Inv'])), (-1,-1.05*Datos['Inv']),fontsize=14)\n",
    "    #Anualidades\n",
    "    meses = 1\n",
    "    year = 0\n",
    "    for i in range(12*Vida):\n",
    "        exp = floor((i+1)/13)\n",
    "        fecha = 2019+year\n",
    "        Anualidad = Datos['Ent']*Datos['inf'][fecha] - Datos['Sal']*(monedas['cop']['timeline'][fecha]/monedas['cop']['timeline'][2019])\n",
    "        if Anualidad > 0:\n",
    "            c = 'green'\n",
    "            sign = 1\n",
    "        else:\n",
    "            c = 'red'\n",
    "            sign = -1\n",
    "        ax.arrow(i+1,0,0,(year+1)/6*Anualidad, head_width=0.2*Vida, head_length=0.025*Datos['Inv'], fc=c, ec=c)\n",
    "        meses += 1\n",
    "        if meses == 13:\n",
    "            Datos['Anualidades'][fecha] = Anualidad\n",
    "            ax.plot([i-meses+3,i+1], [(year+1)/6*Anualidad+sign*0.025*Datos['Inv'],(year+1)/6*Anualidad+sign*0.025*Datos['Inv']], c=c)\n",
    "            ax.annotate(str(Money(Anualidad)), (i-6,(year+1)/6*Anualidad+0.05*Datos['Inv']),fontsize=14)\n",
    "            meses = 1\n",
    "            year += 1\n",
    "    ax.set_ylim([-1.1*Datos['Inv'],0.6*Datos['Inv']])\n",
    "Datos = {}\n",
    "Esquema = interactive(Diagrama,\n",
    "                      Opcion = combinaciones['Combinación'],\n",
    "                      Vida = (1,10,1))\n",
    "display(Esquema)"
   ]
  },
  {
   "cell_type": "markdown",
   "metadata": {},
   "source": [
    "### 4.4. Rentabilidad\n",
    "\n",
    "<div align=\"justify\">\n",
    "    A partir del diagrama de flujo, podemos llegar a tener una idea sobre la rentabilidad de la inversión con respecto al tiempo. Sin embargo, teniendo en cuenta la <i>tasa de interés</i> cobrada por el banco mundial, se obtiene lo siguiente:\n",
    "</div>"
   ]
  },
  {
   "cell_type": "code",
   "execution_count": 80,
   "metadata": {},
   "outputs": [
    {
     "data": {
      "application/vnd.plotly.v1+json": {
       "config": {
        "plotlyServerURL": "https://plot.ly"
       },
       "data": [
        {
         "type": "scatter",
         "x": [
          0,
          1,
          1,
          2,
          2,
          3,
          3,
          4,
          4,
          5,
          5,
          6,
          6,
          7,
          7,
          8,
          8,
          9,
          9,
          10,
          10,
          11,
          11,
          12,
          12
         ],
         "y": [
          -68551450,
          -75406595,
          -66449441.91,
          -73094386.101,
          -64137233.01099999,
          -70550956.3121,
          -61593803.22209999,
          -67753183.54430999,
          -58796030.454309985,
          -64675633.49974099,
          -55718480.409740984,
          -61290328.45071509,
          -52333175.360715084,
          -57566492.8967866,
          -48609339.8067866,
          -53470273.78746526,
          -44513120.697465256,
          -48964432.76721179,
          -40007279.677211784,
          -44008007.64493296,
          -35050854.55493296,
          -38555940.01042626,
          -29598786.920426257,
          -32558665.612468887,
          -23601512.522468884
         ]
        }
       ],
       "layout": {
        "autosize": true,
        "template": {
         "data": {
          "bar": [
           {
            "error_x": {
             "color": "#2a3f5f"
            },
            "error_y": {
             "color": "#2a3f5f"
            },
            "marker": {
             "line": {
              "color": "#E5ECF6",
              "width": 0.5
             }
            },
            "type": "bar"
           }
          ],
          "barpolar": [
           {
            "marker": {
             "line": {
              "color": "#E5ECF6",
              "width": 0.5
             }
            },
            "type": "barpolar"
           }
          ],
          "carpet": [
           {
            "aaxis": {
             "endlinecolor": "#2a3f5f",
             "gridcolor": "white",
             "linecolor": "white",
             "minorgridcolor": "white",
             "startlinecolor": "#2a3f5f"
            },
            "baxis": {
             "endlinecolor": "#2a3f5f",
             "gridcolor": "white",
             "linecolor": "white",
             "minorgridcolor": "white",
             "startlinecolor": "#2a3f5f"
            },
            "type": "carpet"
           }
          ],
          "choropleth": [
           {
            "colorbar": {
             "outlinewidth": 0,
             "ticks": ""
            },
            "type": "choropleth"
           }
          ],
          "contour": [
           {
            "colorbar": {
             "outlinewidth": 0,
             "ticks": ""
            },
            "colorscale": [
             [
              0,
              "#0d0887"
             ],
             [
              0.1111111111111111,
              "#46039f"
             ],
             [
              0.2222222222222222,
              "#7201a8"
             ],
             [
              0.3333333333333333,
              "#9c179e"
             ],
             [
              0.4444444444444444,
              "#bd3786"
             ],
             [
              0.5555555555555556,
              "#d8576b"
             ],
             [
              0.6666666666666666,
              "#ed7953"
             ],
             [
              0.7777777777777778,
              "#fb9f3a"
             ],
             [
              0.8888888888888888,
              "#fdca26"
             ],
             [
              1,
              "#f0f921"
             ]
            ],
            "type": "contour"
           }
          ],
          "contourcarpet": [
           {
            "colorbar": {
             "outlinewidth": 0,
             "ticks": ""
            },
            "type": "contourcarpet"
           }
          ],
          "heatmap": [
           {
            "colorbar": {
             "outlinewidth": 0,
             "ticks": ""
            },
            "colorscale": [
             [
              0,
              "#0d0887"
             ],
             [
              0.1111111111111111,
              "#46039f"
             ],
             [
              0.2222222222222222,
              "#7201a8"
             ],
             [
              0.3333333333333333,
              "#9c179e"
             ],
             [
              0.4444444444444444,
              "#bd3786"
             ],
             [
              0.5555555555555556,
              "#d8576b"
             ],
             [
              0.6666666666666666,
              "#ed7953"
             ],
             [
              0.7777777777777778,
              "#fb9f3a"
             ],
             [
              0.8888888888888888,
              "#fdca26"
             ],
             [
              1,
              "#f0f921"
             ]
            ],
            "type": "heatmap"
           }
          ],
          "heatmapgl": [
           {
            "colorbar": {
             "outlinewidth": 0,
             "ticks": ""
            },
            "colorscale": [
             [
              0,
              "#0d0887"
             ],
             [
              0.1111111111111111,
              "#46039f"
             ],
             [
              0.2222222222222222,
              "#7201a8"
             ],
             [
              0.3333333333333333,
              "#9c179e"
             ],
             [
              0.4444444444444444,
              "#bd3786"
             ],
             [
              0.5555555555555556,
              "#d8576b"
             ],
             [
              0.6666666666666666,
              "#ed7953"
             ],
             [
              0.7777777777777778,
              "#fb9f3a"
             ],
             [
              0.8888888888888888,
              "#fdca26"
             ],
             [
              1,
              "#f0f921"
             ]
            ],
            "type": "heatmapgl"
           }
          ],
          "histogram": [
           {
            "marker": {
             "colorbar": {
              "outlinewidth": 0,
              "ticks": ""
             }
            },
            "type": "histogram"
           }
          ],
          "histogram2d": [
           {
            "colorbar": {
             "outlinewidth": 0,
             "ticks": ""
            },
            "colorscale": [
             [
              0,
              "#0d0887"
             ],
             [
              0.1111111111111111,
              "#46039f"
             ],
             [
              0.2222222222222222,
              "#7201a8"
             ],
             [
              0.3333333333333333,
              "#9c179e"
             ],
             [
              0.4444444444444444,
              "#bd3786"
             ],
             [
              0.5555555555555556,
              "#d8576b"
             ],
             [
              0.6666666666666666,
              "#ed7953"
             ],
             [
              0.7777777777777778,
              "#fb9f3a"
             ],
             [
              0.8888888888888888,
              "#fdca26"
             ],
             [
              1,
              "#f0f921"
             ]
            ],
            "type": "histogram2d"
           }
          ],
          "histogram2dcontour": [
           {
            "colorbar": {
             "outlinewidth": 0,
             "ticks": ""
            },
            "colorscale": [
             [
              0,
              "#0d0887"
             ],
             [
              0.1111111111111111,
              "#46039f"
             ],
             [
              0.2222222222222222,
              "#7201a8"
             ],
             [
              0.3333333333333333,
              "#9c179e"
             ],
             [
              0.4444444444444444,
              "#bd3786"
             ],
             [
              0.5555555555555556,
              "#d8576b"
             ],
             [
              0.6666666666666666,
              "#ed7953"
             ],
             [
              0.7777777777777778,
              "#fb9f3a"
             ],
             [
              0.8888888888888888,
              "#fdca26"
             ],
             [
              1,
              "#f0f921"
             ]
            ],
            "type": "histogram2dcontour"
           }
          ],
          "mesh3d": [
           {
            "colorbar": {
             "outlinewidth": 0,
             "ticks": ""
            },
            "type": "mesh3d"
           }
          ],
          "parcoords": [
           {
            "line": {
             "colorbar": {
              "outlinewidth": 0,
              "ticks": ""
             }
            },
            "type": "parcoords"
           }
          ],
          "scatter": [
           {
            "marker": {
             "colorbar": {
              "outlinewidth": 0,
              "ticks": ""
             }
            },
            "type": "scatter"
           }
          ],
          "scatter3d": [
           {
            "line": {
             "colorbar": {
              "outlinewidth": 0,
              "ticks": ""
             }
            },
            "marker": {
             "colorbar": {
              "outlinewidth": 0,
              "ticks": ""
             }
            },
            "type": "scatter3d"
           }
          ],
          "scattercarpet": [
           {
            "marker": {
             "colorbar": {
              "outlinewidth": 0,
              "ticks": ""
             }
            },
            "type": "scattercarpet"
           }
          ],
          "scattergeo": [
           {
            "marker": {
             "colorbar": {
              "outlinewidth": 0,
              "ticks": ""
             }
            },
            "type": "scattergeo"
           }
          ],
          "scattergl": [
           {
            "marker": {
             "colorbar": {
              "outlinewidth": 0,
              "ticks": ""
             }
            },
            "type": "scattergl"
           }
          ],
          "scattermapbox": [
           {
            "marker": {
             "colorbar": {
              "outlinewidth": 0,
              "ticks": ""
             }
            },
            "type": "scattermapbox"
           }
          ],
          "scatterpolar": [
           {
            "marker": {
             "colorbar": {
              "outlinewidth": 0,
              "ticks": ""
             }
            },
            "type": "scatterpolar"
           }
          ],
          "scatterpolargl": [
           {
            "marker": {
             "colorbar": {
              "outlinewidth": 0,
              "ticks": ""
             }
            },
            "type": "scatterpolargl"
           }
          ],
          "scatterternary": [
           {
            "marker": {
             "colorbar": {
              "outlinewidth": 0,
              "ticks": ""
             }
            },
            "type": "scatterternary"
           }
          ],
          "surface": [
           {
            "colorbar": {
             "outlinewidth": 0,
             "ticks": ""
            },
            "colorscale": [
             [
              0,
              "#0d0887"
             ],
             [
              0.1111111111111111,
              "#46039f"
             ],
             [
              0.2222222222222222,
              "#7201a8"
             ],
             [
              0.3333333333333333,
              "#9c179e"
             ],
             [
              0.4444444444444444,
              "#bd3786"
             ],
             [
              0.5555555555555556,
              "#d8576b"
             ],
             [
              0.6666666666666666,
              "#ed7953"
             ],
             [
              0.7777777777777778,
              "#fb9f3a"
             ],
             [
              0.8888888888888888,
              "#fdca26"
             ],
             [
              1,
              "#f0f921"
             ]
            ],
            "type": "surface"
           }
          ],
          "table": [
           {
            "cells": {
             "fill": {
              "color": "#EBF0F8"
             },
             "line": {
              "color": "white"
             }
            },
            "header": {
             "fill": {
              "color": "#C8D4E3"
             },
             "line": {
              "color": "white"
             }
            },
            "type": "table"
           }
          ]
         },
         "layout": {
          "annotationdefaults": {
           "arrowcolor": "#2a3f5f",
           "arrowhead": 0,
           "arrowwidth": 1
          },
          "colorscale": {
           "diverging": [
            [
             0,
             "#8e0152"
            ],
            [
             0.1,
             "#c51b7d"
            ],
            [
             0.2,
             "#de77ae"
            ],
            [
             0.3,
             "#f1b6da"
            ],
            [
             0.4,
             "#fde0ef"
            ],
            [
             0.5,
             "#f7f7f7"
            ],
            [
             0.6,
             "#e6f5d0"
            ],
            [
             0.7,
             "#b8e186"
            ],
            [
             0.8,
             "#7fbc41"
            ],
            [
             0.9,
             "#4d9221"
            ],
            [
             1,
             "#276419"
            ]
           ],
           "sequential": [
            [
             0,
             "#0d0887"
            ],
            [
             0.1111111111111111,
             "#46039f"
            ],
            [
             0.2222222222222222,
             "#7201a8"
            ],
            [
             0.3333333333333333,
             "#9c179e"
            ],
            [
             0.4444444444444444,
             "#bd3786"
            ],
            [
             0.5555555555555556,
             "#d8576b"
            ],
            [
             0.6666666666666666,
             "#ed7953"
            ],
            [
             0.7777777777777778,
             "#fb9f3a"
            ],
            [
             0.8888888888888888,
             "#fdca26"
            ],
            [
             1,
             "#f0f921"
            ]
           ],
           "sequentialminus": [
            [
             0,
             "#0d0887"
            ],
            [
             0.1111111111111111,
             "#46039f"
            ],
            [
             0.2222222222222222,
             "#7201a8"
            ],
            [
             0.3333333333333333,
             "#9c179e"
            ],
            [
             0.4444444444444444,
             "#bd3786"
            ],
            [
             0.5555555555555556,
             "#d8576b"
            ],
            [
             0.6666666666666666,
             "#ed7953"
            ],
            [
             0.7777777777777778,
             "#fb9f3a"
            ],
            [
             0.8888888888888888,
             "#fdca26"
            ],
            [
             1,
             "#f0f921"
            ]
           ]
          },
          "colorway": [
           "#636efa",
           "#EF553B",
           "#00cc96",
           "#ab63fa",
           "#FFA15A",
           "#19d3f3",
           "#FF6692",
           "#B6E880",
           "#FF97FF",
           "#FECB52"
          ],
          "font": {
           "color": "#2a3f5f"
          },
          "geo": {
           "bgcolor": "white",
           "lakecolor": "white",
           "landcolor": "#E5ECF6",
           "showlakes": true,
           "showland": true,
           "subunitcolor": "white"
          },
          "hoverlabel": {
           "align": "left"
          },
          "hovermode": "closest",
          "mapbox": {
           "style": "light"
          },
          "paper_bgcolor": "white",
          "plot_bgcolor": "#E5ECF6",
          "polar": {
           "angularaxis": {
            "gridcolor": "white",
            "linecolor": "white",
            "ticks": ""
           },
           "bgcolor": "#E5ECF6",
           "radialaxis": {
            "gridcolor": "white",
            "linecolor": "white",
            "ticks": ""
           }
          },
          "scene": {
           "xaxis": {
            "backgroundcolor": "#E5ECF6",
            "gridcolor": "white",
            "gridwidth": 2,
            "linecolor": "white",
            "showbackground": true,
            "ticks": "",
            "zerolinecolor": "white"
           },
           "yaxis": {
            "backgroundcolor": "#E5ECF6",
            "gridcolor": "white",
            "gridwidth": 2,
            "linecolor": "white",
            "showbackground": true,
            "ticks": "",
            "zerolinecolor": "white"
           },
           "zaxis": {
            "backgroundcolor": "#E5ECF6",
            "gridcolor": "white",
            "gridwidth": 2,
            "linecolor": "white",
            "showbackground": true,
            "ticks": "",
            "zerolinecolor": "white"
           }
          },
          "shapedefaults": {
           "line": {
            "color": "#2a3f5f"
           }
          },
          "ternary": {
           "aaxis": {
            "gridcolor": "white",
            "linecolor": "white",
            "ticks": ""
           },
           "baxis": {
            "gridcolor": "white",
            "linecolor": "white",
            "ticks": ""
           },
           "bgcolor": "#E5ECF6",
           "caxis": {
            "gridcolor": "white",
            "linecolor": "white",
            "ticks": ""
           }
          },
          "title": {
           "x": 0.05
          },
          "xaxis": {
           "automargin": true,
           "gridcolor": "white",
           "linecolor": "white",
           "ticks": "",
           "zerolinecolor": "white",
           "zerolinewidth": 2
          },
          "yaxis": {
           "automargin": true,
           "gridcolor": "white",
           "linecolor": "white",
           "ticks": "",
           "zerolinecolor": "white",
           "zerolinewidth": 2
          }
         }
        },
        "title": {
         "text": "Diagrama de saldo"
        },
        "xaxis": {
         "autorange": true,
         "range": [
          0,
          12
         ],
         "title": {
          "font": {
           "color": "#7f7f7f",
           "family": "Courier New, monospace",
           "size": 18
          },
          "text": "Tiempo [meses]"
         },
         "type": "linear"
        },
        "yaxis": {
         "autorange": true,
         "range": [
          -78284655.13764063,
          -20723452.384828266
         ],
         "title": {
          "font": {
           "color": "#7f7f7f",
           "family": "Courier New, monospace",
           "size": 18
          },
          "text": "Saldo [COP]"
         },
         "type": "linear"
        }
       }
      },
      "image/png": "[encoded data removed]",
      "text/html": [
       "<div>\n",
       "        \n",
       "        \n",
       "            <div id=\"ea0e322d-27a6-4650-b1d7-edf69da91650\" class=\"plotly-graph-div\" style=\"height:525px; width:100%;\"></div>\n",
       "            <script type=\"text/javascript\">\n",
       "                require([\"plotly\"], function(Plotly) {\n",
       "                    window.PLOTLYENV=window.PLOTLYENV || {};\n",
       "                    \n",
       "                if (document.getElementById(\"ea0e322d-27a6-4650-b1d7-edf69da91650\")) {\n",
       "                    Plotly.newPlot(\n",
       "                        'ea0e322d-27a6-4650-b1d7-edf69da91650',\n",
       "                        [{\"type\": \"scatter\", \"x\": [0, 1, 1, 2, 2, 3, 3, 4, 4, 5, 5, 6, 6, 7, 7, 8, 8, 9, 9, 10, 10, 11, 11, 12, 12], \"y\": [-68551450.0, -75406595.0, -66449441.91, -73094386.101, -64137233.01099999, -70550956.3121, -61593803.22209999, -67753183.54430999, -58796030.454309985, -64675633.49974099, -55718480.409740984, -61290328.45071509, -52333175.360715084, -57566492.8967866, -48609339.8067866, -53470273.78746526, -44513120.697465256, -48964432.76721179, -40007279.677211784, -44008007.64493296, -35050854.55493296, -38555940.01042626, -29598786.920426257, -32558665.612468887, -23601512.522468884]}],\n",
       "                        {\"template\": {\"data\": {\"bar\": [{\"error_x\": {\"color\": \"#2a3f5f\"}, \"error_y\": {\"color\": \"#2a3f5f\"}, \"marker\": {\"line\": {\"color\": \"#E5ECF6\", \"width\": 0.5}}, \"type\": \"bar\"}], \"barpolar\": [{\"marker\": {\"line\": {\"color\": \"#E5ECF6\", \"width\": 0.5}}, \"type\": \"barpolar\"}], \"carpet\": [{\"aaxis\": {\"endlinecolor\": \"#2a3f5f\", \"gridcolor\": \"white\", \"linecolor\": \"white\", \"minorgridcolor\": \"white\", \"startlinecolor\": \"#2a3f5f\"}, \"baxis\": {\"endlinecolor\": \"#2a3f5f\", \"gridcolor\": \"white\", \"linecolor\": \"white\", \"minorgridcolor\": \"white\", \"startlinecolor\": \"#2a3f5f\"}, \"type\": \"carpet\"}], \"choropleth\": [{\"colorbar\": {\"outlinewidth\": 0, \"ticks\": \"\"}, \"type\": \"choropleth\"}], \"contour\": [{\"colorbar\": {\"outlinewidth\": 0, \"ticks\": \"\"}, \"colorscale\": [[0.0, \"#0d0887\"], [0.1111111111111111, \"#46039f\"], [0.2222222222222222, \"#7201a8\"], [0.3333333333333333, \"#9c179e\"], [0.4444444444444444, \"#bd3786\"], [0.5555555555555556, \"#d8576b\"], [0.6666666666666666, \"#ed7953\"], [0.7777777777777778, \"#fb9f3a\"], [0.8888888888888888, \"#fdca26\"], [1.0, \"#f0f921\"]], \"type\": \"contour\"}], \"contourcarpet\": [{\"colorbar\": {\"outlinewidth\": 0, \"ticks\": \"\"}, \"type\": \"contourcarpet\"}], \"heatmap\": [{\"colorbar\": {\"outlinewidth\": 0, \"ticks\": \"\"}, \"colorscale\": [[0.0, \"#0d0887\"], [0.1111111111111111, \"#46039f\"], [0.2222222222222222, \"#7201a8\"], [0.3333333333333333, \"#9c179e\"], [0.4444444444444444, \"#bd3786\"], [0.5555555555555556, \"#d8576b\"], [0.6666666666666666, \"#ed7953\"], [0.7777777777777778, \"#fb9f3a\"], [0.8888888888888888, \"#fdca26\"], [1.0, \"#f0f921\"]], \"type\": \"heatmap\"}], \"heatmapgl\": [{\"colorbar\": {\"outlinewidth\": 0, \"ticks\": \"\"}, \"colorscale\": [[0.0, \"#0d0887\"], [0.1111111111111111, \"#46039f\"], [0.2222222222222222, \"#7201a8\"], [0.3333333333333333, \"#9c179e\"], [0.4444444444444444, \"#bd3786\"], [0.5555555555555556, \"#d8576b\"], [0.6666666666666666, \"#ed7953\"], [0.7777777777777778, \"#fb9f3a\"], [0.8888888888888888, \"#fdca26\"], [1.0, \"#f0f921\"]], \"type\": \"heatmapgl\"}], \"histogram\": [{\"marker\": {\"colorbar\": {\"outlinewidth\": 0, \"ticks\": \"\"}}, \"type\": \"histogram\"}], \"histogram2d\": [{\"colorbar\": {\"outlinewidth\": 0, \"ticks\": \"\"}, \"colorscale\": [[0.0, \"#0d0887\"], [0.1111111111111111, \"#46039f\"], [0.2222222222222222, \"#7201a8\"], [0.3333333333333333, \"#9c179e\"], [0.4444444444444444, \"#bd3786\"], [0.5555555555555556, \"#d8576b\"], [0.6666666666666666, \"#ed7953\"], [0.7777777777777778, \"#fb9f3a\"], [0.8888888888888888, \"#fdca26\"], [1.0, \"#f0f921\"]], \"type\": \"histogram2d\"}], \"histogram2dcontour\": [{\"colorbar\": {\"outlinewidth\": 0, \"ticks\": \"\"}, \"colorscale\": [[0.0, \"#0d0887\"], [0.1111111111111111, \"#46039f\"], [0.2222222222222222, \"#7201a8\"], [0.3333333333333333, \"#9c179e\"], [0.4444444444444444, \"#bd3786\"], [0.5555555555555556, \"#d8576b\"], [0.6666666666666666, \"#ed7953\"], [0.7777777777777778, \"#fb9f3a\"], [0.8888888888888888, \"#fdca26\"], [1.0, \"#f0f921\"]], \"type\": \"histogram2dcontour\"}], \"mesh3d\": [{\"colorbar\": {\"outlinewidth\": 0, \"ticks\": \"\"}, \"type\": \"mesh3d\"}], \"parcoords\": [{\"line\": {\"colorbar\": {\"outlinewidth\": 0, \"ticks\": \"\"}}, \"type\": \"parcoords\"}], \"scatter\": [{\"marker\": {\"colorbar\": {\"outlinewidth\": 0, \"ticks\": \"\"}}, \"type\": \"scatter\"}], \"scatter3d\": [{\"line\": {\"colorbar\": {\"outlinewidth\": 0, \"ticks\": \"\"}}, \"marker\": {\"colorbar\": {\"outlinewidth\": 0, \"ticks\": \"\"}}, \"type\": \"scatter3d\"}], \"scattercarpet\": [{\"marker\": {\"colorbar\": {\"outlinewidth\": 0, \"ticks\": \"\"}}, \"type\": \"scattercarpet\"}], \"scattergeo\": [{\"marker\": {\"colorbar\": {\"outlinewidth\": 0, \"ticks\": \"\"}}, \"type\": \"scattergeo\"}], \"scattergl\": [{\"marker\": {\"colorbar\": {\"outlinewidth\": 0, \"ticks\": \"\"}}, \"type\": \"scattergl\"}], \"scattermapbox\": [{\"marker\": {\"colorbar\": {\"outlinewidth\": 0, \"ticks\": \"\"}}, \"type\": \"scattermapbox\"}], \"scatterpolar\": [{\"marker\": {\"colorbar\": {\"outlinewidth\": 0, \"ticks\": \"\"}}, \"type\": \"scatterpolar\"}], \"scatterpolargl\": [{\"marker\": {\"colorbar\": {\"outlinewidth\": 0, \"ticks\": \"\"}}, \"type\": \"scatterpolargl\"}], \"scatterternary\": [{\"marker\": {\"colorbar\": {\"outlinewidth\": 0, \"ticks\": \"\"}}, \"type\": \"scatterternary\"}], \"surface\": [{\"colorbar\": {\"outlinewidth\": 0, \"ticks\": \"\"}, \"colorscale\": [[0.0, \"#0d0887\"], [0.1111111111111111, \"#46039f\"], [0.2222222222222222, \"#7201a8\"], [0.3333333333333333, \"#9c179e\"], [0.4444444444444444, \"#bd3786\"], [0.5555555555555556, \"#d8576b\"], [0.6666666666666666, \"#ed7953\"], [0.7777777777777778, \"#fb9f3a\"], [0.8888888888888888, \"#fdca26\"], [1.0, \"#f0f921\"]], \"type\": \"surface\"}], \"table\": [{\"cells\": {\"fill\": {\"color\": \"#EBF0F8\"}, \"line\": {\"color\": \"white\"}}, \"header\": {\"fill\": {\"color\": \"#C8D4E3\"}, \"line\": {\"color\": \"white\"}}, \"type\": \"table\"}]}, \"layout\": {\"annotationdefaults\": {\"arrowcolor\": \"#2a3f5f\", \"arrowhead\": 0, \"arrowwidth\": 1}, \"colorscale\": {\"diverging\": [[0, \"#8e0152\"], [0.1, \"#c51b7d\"], [0.2, \"#de77ae\"], [0.3, \"#f1b6da\"], [0.4, \"#fde0ef\"], [0.5, \"#f7f7f7\"], [0.6, \"#e6f5d0\"], [0.7, \"#b8e186\"], [0.8, \"#7fbc41\"], [0.9, \"#4d9221\"], [1, \"#276419\"]], \"sequential\": [[0.0, \"#0d0887\"], [0.1111111111111111, \"#46039f\"], [0.2222222222222222, \"#7201a8\"], [0.3333333333333333, \"#9c179e\"], [0.4444444444444444, \"#bd3786\"], [0.5555555555555556, \"#d8576b\"], [0.6666666666666666, \"#ed7953\"], [0.7777777777777778, \"#fb9f3a\"], [0.8888888888888888, \"#fdca26\"], [1.0, \"#f0f921\"]], \"sequentialminus\": [[0.0, \"#0d0887\"], [0.1111111111111111, \"#46039f\"], [0.2222222222222222, \"#7201a8\"], [0.3333333333333333, \"#9c179e\"], [0.4444444444444444, \"#bd3786\"], [0.5555555555555556, \"#d8576b\"], [0.6666666666666666, \"#ed7953\"], [0.7777777777777778, \"#fb9f3a\"], [0.8888888888888888, \"#fdca26\"], [1.0, \"#f0f921\"]]}, \"colorway\": [\"#636efa\", \"#EF553B\", \"#00cc96\", \"#ab63fa\", \"#FFA15A\", \"#19d3f3\", \"#FF6692\", \"#B6E880\", \"#FF97FF\", \"#FECB52\"], \"font\": {\"color\": \"#2a3f5f\"}, \"geo\": {\"bgcolor\": \"white\", \"lakecolor\": \"white\", \"landcolor\": \"#E5ECF6\", \"showlakes\": true, \"showland\": true, \"subunitcolor\": \"white\"}, \"hoverlabel\": {\"align\": \"left\"}, \"hovermode\": \"closest\", \"mapbox\": {\"style\": \"light\"}, \"paper_bgcolor\": \"white\", \"plot_bgcolor\": \"#E5ECF6\", \"polar\": {\"angularaxis\": {\"gridcolor\": \"white\", \"linecolor\": \"white\", \"ticks\": \"\"}, \"bgcolor\": \"#E5ECF6\", \"radialaxis\": {\"gridcolor\": \"white\", \"linecolor\": \"white\", \"ticks\": \"\"}}, \"scene\": {\"xaxis\": {\"backgroundcolor\": \"#E5ECF6\", \"gridcolor\": \"white\", \"gridwidth\": 2, \"linecolor\": \"white\", \"showbackground\": true, \"ticks\": \"\", \"zerolinecolor\": \"white\"}, \"yaxis\": {\"backgroundcolor\": \"#E5ECF6\", \"gridcolor\": \"white\", \"gridwidth\": 2, \"linecolor\": \"white\", \"showbackground\": true, \"ticks\": \"\", \"zerolinecolor\": \"white\"}, \"zaxis\": {\"backgroundcolor\": \"#E5ECF6\", \"gridcolor\": \"white\", \"gridwidth\": 2, \"linecolor\": \"white\", \"showbackground\": true, \"ticks\": \"\", \"zerolinecolor\": \"white\"}}, \"shapedefaults\": {\"line\": {\"color\": \"#2a3f5f\"}}, \"ternary\": {\"aaxis\": {\"gridcolor\": \"white\", \"linecolor\": \"white\", \"ticks\": \"\"}, \"baxis\": {\"gridcolor\": \"white\", \"linecolor\": \"white\", \"ticks\": \"\"}, \"bgcolor\": \"#E5ECF6\", \"caxis\": {\"gridcolor\": \"white\", \"linecolor\": \"white\", \"ticks\": \"\"}}, \"title\": {\"x\": 0.05}, \"xaxis\": {\"automargin\": true, \"gridcolor\": \"white\", \"linecolor\": \"white\", \"ticks\": \"\", \"zerolinecolor\": \"white\", \"zerolinewidth\": 2}, \"yaxis\": {\"automargin\": true, \"gridcolor\": \"white\", \"linecolor\": \"white\", \"ticks\": \"\", \"zerolinecolor\": \"white\", \"zerolinewidth\": 2}}}, \"title\": {\"text\": \"Diagrama de saldo\"}, \"xaxis\": {\"title\": {\"font\": {\"color\": \"#7f7f7f\", \"family\": \"Courier New, monospace\", \"size\": 18}, \"text\": \"Tiempo [meses]\"}}, \"yaxis\": {\"title\": {\"font\": {\"color\": \"#7f7f7f\", \"family\": \"Courier New, monospace\", \"size\": 18}, \"text\": \"Saldo [COP]\"}}},\n",
       "                        {\"responsive\": true}\n",
       "                    ).then(function(){\n",
       "                            \n",
       "var gd = document.getElementById('ea0e322d-27a6-4650-b1d7-edf69da91650');\n",
       "var x = new MutationObserver(function (mutations, observer) {{\n",
       "        var display = window.getComputedStyle(gd).display;\n",
       "        if (!display || display === 'none') {{\n",
       "            console.log([gd, 'removed!']);\n",
       "            Plotly.purge(gd);\n",
       "            observer.disconnect();\n",
       "        }}\n",
       "}});\n",
       "\n",
       "// Listen for the removal of the full notebook cells\n",
       "var notebookContainer = gd.closest('#notebook-container');\n",
       "if (notebookContainer) {{\n",
       "    x.observe(notebookContainer, {childList: true});\n",
       "}}\n",
       "\n",
       "// Listen for the clearing of the current output cell\n",
       "var outputEl = gd.closest('.output');\n",
       "if (outputEl) {{\n",
       "    x.observe(outputEl, {childList: true});\n",
       "}}\n",
       "\n",
       "                        })\n",
       "                };\n",
       "                });\n",
       "            </script>\n",
       "        </div>"
      ]
     },
     "metadata": {},
     "output_type": "display_data"
    }
   ],
   "source": [
    "#Inicializar variables\n",
    "coord = {\n",
    "    'meses':[0],\n",
    "    'saldo':[-Datos['Inv']],\n",
    "    'interés':[]\n",
    "}\n",
    "suma = 1\n",
    "for year in Datos['Anualidades']:\n",
    "    for m in range(12):\n",
    "        coord['meses'].append(suma)\n",
    "        if coord['saldo'][-1] < 0:\n",
    "            coord['meses'].append(suma)\n",
    "            coord['interés'].append(coord['saldo'][-1]*(IE['Interés BM']))\n",
    "            coord['saldo'].append(coord['saldo'][-1]*(1+IE['Interés BM']))\n",
    "        coord['saldo'].append(coord['saldo'][-1] + Datos['Anualidades'][year])\n",
    "        suma += 1\n",
    "fig3 = go.Figure(data=go.Scatter(x=coord['meses'], y=coord['saldo']))\n",
    "fig3.update_layout(\n",
    "    title=go.layout.Title(\n",
    "        text = \"Diagrama de saldo\",\n",
    "    ),\n",
    "    xaxis=go.layout.XAxis(title=go.layout.xaxis.Title(\n",
    "        text =\"Combinación\",\n",
    "        font=dict(\n",
    "            family=\"Courier New, monospace\",\n",
    "            size=18,\n",
    "            color = \"#7f7f7f\"\n",
    "        )\n",
    "    )),\n",
    "    yaxis=go.layout.YAxis(title=go.layout.yaxis.Title(\n",
    "        text =\"Costo [COP]\",\n",
    "        font=dict(\n",
    "            family=\"Courier New, monospace\",\n",
    "            size=18,\n",
    "            color = \"#7f7f7f\"\n",
    "        )\n",
    "    ))\n",
    ")\n",
    "fig3.update_layout(\n",
    "    title=go.layout.Title(\n",
    "        text = \"Diagrama de saldo\",\n",
    "    ),\n",
    "    xaxis=go.layout.XAxis(title=go.layout.xaxis.Title(\n",
    "        text =\"Tiempo [meses]\",\n",
    "        font=dict(\n",
    "            family=\"Courier New, monospace\",\n",
    "            size=18,\n",
    "            color = \"#7f7f7f\"\n",
    "        )\n",
    "    )),\n",
    "    yaxis=go.layout.YAxis(title=go.layout.yaxis.Title(\n",
    "        text =\"Saldo [COP]\",\n",
    "        font=dict(\n",
    "            family=\"Courier New, monospace\",\n",
    "            size=18,\n",
    "            color = \"#7f7f7f\"\n",
    "        )\n",
    "    ))\n",
    ")\n",
    "fig3.show()"
   ]
  },
  {
   "cell_type": "markdown",
   "metadata": {},
   "source": [
    "### 4.5. Tasa Interna de Retorno (TIR)\n",
    "\n",
    "<div align=\"justify\">\n",
    "    Para la estimación de la tasa interna de retorno, se utilizará la siguiente relación matemática:\n",
    "    $$\n",
    "    \\begin{equation}\n",
    "        VPN = 0 = \\sum _{i=1} ^n \\frac{A_i}{\\left(1+ TIR \\right)^i} - \\left(C_0 + \\sum _{j=1} ^N I_j  \\right)\n",
    "        \\tag{17}\n",
    "        \\label{TIRR}\n",
    "    \\end{equation}\n",
    "    $$\n",
    "    De la Ecuación \\ref{TIRR}: $A_i$ es el valor de la anualidad en el tiempo $i$, $C_0$ corresponde al valor de la inversión inicial, $I_j$ es el valor de los intereses añadidos en el periodo $j$ y $N$ es el momento en que el proyecto ha llegado al punto de equilibrio (ya se ha pagado la deuda debido al préstamo).\n",
    "</div>"
   ]
  },
  {
   "cell_type": "code",
   "execution_count": 81,
   "metadata": {},
   "outputs": [
    {
     "data": {
      "text/latex": [
       "$\\displaystyle \\frac{A_{1}}{TIR + 1} - C_{0} - I_{1} - I_{10} - I_{11} - I_{12} - I_{2} - I_{3} - I_{4} - I_{5} - I_{6} - I_{7} - I_{8} - I_{9} = 0$"
      ],
      "text/plain": [
       "Eq(A_1/(TIR + 1) - C_0 - I_1 - I_10 - I_11 - I_12 - I_2 - I_3 - I_4 - I_5 - I_6 - I_7 - I_8 - I_9, 0)"
      ]
     },
     "execution_count": 81,
     "metadata": {},
     "output_type": "execute_result"
    }
   ],
   "source": [
    "from sympy import symbols, Function, Eq, solve\n",
    "As = symbols('A_1:' + str(Datos['Vida']+1))\n",
    "Is = symbols('I_1:' + str(len(coord['interés'])+1))\n",
    "TIR = symbols('TIR', real=True, positive=True)\n",
    "C_0 = symbols('C_0')\n",
    "exp = 0\n",
    "for i in range(Datos['Vida']):\n",
    "    exp += As[i]/(1+TIR)**(i+1)\n",
    "exp2 = 0\n",
    "for i in range(len(coord['interés'])):\n",
    "    exp2 += Is[i]\n",
    "Ec = Eq(exp -(C_0 + exp2),0)\n",
    "Ec"
   ]
  },
  {
   "cell_type": "code",
   "execution_count": 13,
   "metadata": {},
   "outputs": [
    {
     "data": {
      "text/plain": [
       "[(A_1 - 2*C_0 - 2*I_1 - 2*I_10 - 2*I_11 - 2*I_12 - 2*I_13 - 2*I_14 - 2*I_15 - 2*I_16 - 2*I_2 - 2*I_3 - 2*I_4 - 2*I_5 - 2*I_6 - 2*I_7 - 2*I_8 - 2*I_9 - sqrt(A_1**2 + 4*A_2*C_0 + 4*A_2*I_1 + 4*A_2*I_10 + 4*A_2*I_11 + 4*A_2*I_12 + 4*A_2*I_13 + 4*A_2*I_14 + 4*A_2*I_15 + 4*A_2*I_16 + 4*A_2*I_2 + 4*A_2*I_3 + 4*A_2*I_4 + 4*A_2*I_5 + 4*A_2*I_6 + 4*A_2*I_7 + 4*A_2*I_8 + 4*A_2*I_9))/(2*C_0 + 2*I_1 + 2*I_10 + 2*I_11 + 2*I_12 + 2*I_13 + 2*I_14 + 2*I_15 + 2*I_16 + 2*I_2 + 2*I_3 + 2*I_4 + 2*I_5 + 2*I_6 + 2*I_7 + 2*I_8 + 2*I_9),\n",
       " (A_1 - 2*C_0 - 2*I_1 - 2*I_10 - 2*I_11 - 2*I_12 - 2*I_13 - 2*I_14 - 2*I_15 - 2*I_16 - 2*I_2 - 2*I_3 - 2*I_4 - 2*I_5 - 2*I_6 - 2*I_7 - 2*I_8 - 2*I_9 + sqrt(A_1**2 + 4*A_2*C_0 + 4*A_2*I_1 + 4*A_2*I_10 + 4*A_2*I_11 + 4*A_2*I_12 + 4*A_2*I_13 + 4*A_2*I_14 + 4*A_2*I_15 + 4*A_2*I_16 + 4*A_2*I_2 + 4*A_2*I_3 + 4*A_2*I_4 + 4*A_2*I_5 + 4*A_2*I_6 + 4*A_2*I_7 + 4*A_2*I_8 + 4*A_2*I_9))/(2*C_0 + 2*I_1 + 2*I_10 + 2*I_11 + 2*I_12 + 2*I_13 + 2*I_14 + 2*I_15 + 2*I_16 + 2*I_2 + 2*I_3 + 2*I_4 + 2*I_5 + 2*I_6 + 2*I_7 + 2*I_8 + 2*I_9)]"
      ]
     },
     "execution_count": 13,
     "metadata": {},
     "output_type": "execute_result"
    }
   ],
   "source": [
    "sol = solve(Ec, TIR)\n",
    "sol"
   ]
  },
  {
   "cell_type": "code",
   "execution_count": 82,
   "metadata": {},
   "outputs": [
    {
     "data": {
      "text/plain": [
       "[0.488999758638241]"
      ]
     },
     "execution_count": 82,
     "metadata": {},
     "output_type": "execute_result"
    }
   ],
   "source": [
    "r={C_0:Datos['Inv']}\n",
    "for i in range(len(As)):\n",
    "    r[As[i]] = Datos['Anualidades'][2019+i]\n",
    "for i in range(len(Is)):\n",
    "    r[Is[i]] = coord['interés'][i]\n",
    "Ec = Ec.subs(r)\n",
    "sol = solve(Ec, TIR)\n",
    "sol"
   ]
  }
 ],
 "metadata": {
  "kernelspec": {
   "display_name": "Python 3",
   "language": "python",
   "name": "python3"
  },
  "language_info": {
   "codemirror_mode": {
    "name": "ipython",
    "version": 3
   },
   "file_extension": ".py",
   "mimetype": "text/x-python",
   "name": "python",
   "nbconvert_exporter": "python",
   "pygments_lexer": "ipython3",
   "version": "3.7.4"
  }
 },
 "nbformat": 4,
 "nbformat_minor": 4
}
