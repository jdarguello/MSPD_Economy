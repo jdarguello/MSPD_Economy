{
 "cells": [
  {
   "cell_type": "markdown",
   "metadata": {},
   "source": [
    "<div align=\"center\">\n",
    "    <h1><strong>TÍTULO</strong></h1>\n",
    "    <h2>Título sec.</h2>\n",
    "</div>\n",
    "\n",
    "$$\n",
    "\\begin{equation}\n",
    "    x^2 = \\sqrt{2}\n",
    "\\end{equation}\n",
    "$$\n",
    "\n",
    "## __Capítulo 1__\n",
    "\n",
    "<div align=\"justify\">\n",
    "    Texto \n",
    "</div>"
   ]
  },
  {
   "cell_type": "code",
   "execution_count": null,
   "metadata": {},
   "outputs": [],
   "source": [
    "%matplotlib inline\n",
    "import matplotlib.pyplot as plt\n",
    "\n"
   ]
  }
 ],
 "metadata": {
  "kernelspec": {
   "display_name": "Python 3",
   "language": "python",
   "name": "python3"
  },
  "language_info": {
   "codemirror_mode": {
    "name": "ipython",
    "version": 3
   },
   "file_extension": ".py",
   "mimetype": "text/x-python",
   "name": "python",
   "nbconvert_exporter": "python",
   "pygments_lexer": "ipython3",
   "version": "3.7.4"
  }
 },
 "nbformat": 4,
 "nbformat_minor": 4
}
